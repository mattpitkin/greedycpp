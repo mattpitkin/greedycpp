{
 "cells": [
  {
   "cell_type": "code",
   "execution_count": 1,
   "metadata": {
    "collapsed": true
   },
   "outputs": [],
   "source": [
    "%matplotlib inline\n",
    "\n",
    "import os\n",
    "import sys\n",
    "import struct\n",
    "from time import time\n",
    "\n",
    "sys.path.append(\"/home/matthew/lscsoft/.virtualenvs/lalapps_knope_O2/lib/python2.7/site-packages\")\n",
    "\n",
    "import numpy as np\n",
    "from matplotlib import pyplot as pl\n",
    "\n",
    "import lalpulsar"
   ]
  },
  {
   "cell_type": "code",
   "execution_count": 2,
   "metadata": {
    "collapsed": true
   },
   "outputs": [],
   "source": [
    "%load_ext Cython"
   ]
  },
  {
   "cell_type": "code",
   "execution_count": 5,
   "metadata": {},
   "outputs": [],
   "source": [
    "%%cython --compile-args=-O2\n",
    "\n",
    "import numpy as np\n",
    "cimport numpy as np\n",
    "\n",
    "from libc.math cimport sqrt, cos, sin\n",
    "\n",
    "from lalpulsar import ComputeEccentricAnomaly\n",
    "\n",
    "# function to return binary BT model\n",
    "def binary_model(w0, T0, Pb, asini, ecc, gamma, ts):\n",
    "    # calculate the binary time delay for a Keplerian orbit (including gamma parameter\n",
    "    # that accounts for relativistic Einstein delay effects)\n",
    "    \n",
    "    orbits = (ts - T0)/Pb\n",
    "    \n",
    "    phase = 2.*np.pi*np.fmod(orbits, 1.)\n",
    "\n",
    "    l = len(phase)\n",
    "    u = np.zeros(l)\n",
    "    for i in xrange(l):\n",
    "        u[i] = ComputeEccentricAnomaly(phase[i], ecc)\n",
    "\n",
    "    su = np.sin(u)\n",
    "    cu = np.cos(u)\n",
    "    \n",
    "    sw = np.sin(w0)\n",
    "    cw = np.cos(w0)\n",
    "    \n",
    "    x = asini\n",
    "    e = ecc\n",
    "    \n",
    "    one_e2 = sqrt(1. - e**2)\n",
    "    \n",
    "    deltaTW1 = x*(sw*(cu - e) + (cw*one_e2 + (gamma/x))*su)\n",
    "    deltaTW2 = (2.*np.pi*x/Pb)*(cw*one_e2*cu - sw*su)/(1.0 - e*cu)\n",
    "    \n",
    "    dt = -(deltaTW1*(1. - deltaTW2))\n",
    "    \n",
    "    return dt, su, cu\n",
    "\n",
    "def eccentric_anomaly( T0, Pb, ecc, ts ):\n",
    "    # calculate sine and cosine of the eccentric anomaly\n",
    "    \n",
    "    orbits = (ts - T0)/Pb\n",
    "    phase = 2.*np.pi*np.fmod(orbits, 1.)\n",
    "    l = len(phase)\n",
    "    su = np.zeros(l)\n",
    "    cu = np.zeros(l)\n",
    "    for i in xrange(l):\n",
    "        u = ComputeEccentricAnomaly(phase[i], ecc)\n",
    "        su[i] = sin(u)\n",
    "        cu[i] = cos(u)\n",
    "\n",
    "    return su, cu\n",
    "\n",
    "def binary_model_EA(w0, Pb, asini, ecc, gamma, sinU, cosU):\n",
    "    # compute the binary time delay when passed the sine and cosine of the eccentric anomaly U\n",
    "    \n",
    "    sw = np.sin(w0)\n",
    "    cw = np.cos(w0)\n",
    "\n",
    "    x = asini\n",
    "    e = ecc\n",
    "\n",
    "    one_e2 = sqrt(1. - e**2)\n",
    "\n",
    "    tw1 = x*sw*(cosU - e) + (x*cw*one_e2 + gamma)*sinU\n",
    "    tw2 = (2.*np.pi*x/Pb)*(cw*one_e2*cosU - sw*sinU)/(1.0 - e*cosU)\n",
    "\n",
    "    return -tw1*(1. - tw2)"
   ]
  },
  {
   "cell_type": "code",
   "execution_count": 6,
   "metadata": {
    "collapsed": true
   },
   "outputs": [],
   "source": [
    "# show test of residuals\n",
    "rundir1 = '/home/matthew/repositories/greedycpp/scripts/barycenter/binary/term1'\n",
    "\n",
    "# get time stamps\n",
    "ts = np.loadtxt(os.path.join(rundir1, 'quad_rule.txt'))\n",
    "t = ts[:,0]\n",
    "\n",
    "lenb = len(t)\n",
    "\n",
    "# get number of basis\n",
    "Nb1 = np.loadtxt(os.path.join(rundir1, 'ApproxErrors.txt')).shape[0]\n",
    "\n",
    "# read in binary version of reduced basis data\n",
    "bf = open(os.path.join(rundir1,'Basis.bin'), 'rb')\n",
    "fc = bf.read()\n",
    "bf.close()\n",
    "\n",
    "rb1 = np.zeros((Nb1,lenb))\n",
    "for i in range(Nb1):\n",
    "    tmpvals = struct.unpack('d'*lenb*2, fc[(i*8*lenb*2):(i+1)*8*lenb*2])\n",
    "    rb1[i] = tmpvals[::2] # just get real part\n",
    "    \n",
    "# read in binary version of empirical interpolation matrix\n",
    "invV1 = np.zeros((Nb1, Nb1))\n",
    "bf = open(os.path.join(rundir1,'invV.bin'), 'rb')\n",
    "fc = bf.read()\n",
    "bf.close()\n",
    "for i in range(Nb1):\n",
    "    tmpvals = struct.unpack('d'*Nb1*2, fc[(i*8*Nb1*2):(i+1)*8*Nb1*2])\n",
    "    invV1[i] = tmpvals[::2] # just get real part\n",
    "    \n",
    "# show test of residuals\n",
    "rundir2 = '/home/matthew/repositories/greedycpp/scripts/barycenter/binary/term2'\n",
    "\n",
    "# get number of basis\n",
    "Nb2 = np.loadtxt(os.path.join(rundir2, 'ApproxErrors.txt')).shape[0]\n",
    "\n",
    "# read in binary version of reduced basis data\n",
    "bf = open(os.path.join(rundir2,'Basis.bin'), 'rb')\n",
    "fc = bf.read()\n",
    "bf.close()\n",
    "\n",
    "rb2 = np.zeros((Nb2,lenb))\n",
    "for i in range(Nb2):\n",
    "    tmpvals = struct.unpack('d'*lenb*2, fc[(i*8*lenb*2):(i+1)*8*lenb*2])\n",
    "    rb2[i] = tmpvals[::2] # just get real part\n",
    "    \n",
    "# read in binary version of empirical interpolation matrix\n",
    "invV2 = np.zeros((Nb2, Nb2))\n",
    "bf = open(os.path.join(rundir2,'invV.bin'), 'rb')\n",
    "fc = bf.read()\n",
    "bf.close()\n",
    "for i in range(Nb2):\n",
    "    tmpvals = struct.unpack('d'*Nb2*2, fc[(i*8*Nb2*2):(i+1)*8*Nb2*2])\n",
    "    invV2[i] = tmpvals[::2] # just get real part"
   ]
  },
  {
   "cell_type": "code",
   "execution_count": 7,
   "metadata": {
    "collapsed": true
   },
   "outputs": [],
   "source": [
    "# get random phases, start times and eccentricities and check residuals\n",
    "nbins = 1000\n",
    "\n",
    "# fixed parameters\n",
    "Pb = 3600.\n",
    "\n",
    "eccmax = 0.1 # maximum eccentricity of the basis set\n",
    "ecc = eccmax*np.random.rand(nbins)\n",
    "w0 = 2.*np.pi*np.random.rand(nbins)\n",
    "T0 = np.random.rand(nbins)\n",
    "asini = 10.*np.random.rand(nbins)\n",
    "gamma = 1e-3*np.random.rand(nbins)\n",
    "\n",
    "deltaTs = np.zeros(lenb)\n",
    "deltaTsArray = []\n",
    "\n",
    "par = lalpulsar.PulsarParameters()\n",
    "\n",
    "binarytype = \"BT\"\n",
    "lalpulsar.PulsarAddREAL8Param( par, \"PB\", Pb )\n",
    "lalpulsar.PulsarAddStringParam( par, \"BINARY\", binarytype )\n",
    "\n",
    "# get deltaTs calculated over all times using LALBarycenter routines\n",
    "for i in range(nbins):\n",
    "    bininput = lalpulsar.BinaryPulsarInput()\n",
    "    binoutput = lalpulsar.BinaryPulsarOutput()\n",
    "\n",
    "    lalpulsar.PulsarAddREAL8Param( par, \"ECC\", ecc[i] )\n",
    "    lalpulsar.PulsarAddREAL8Param( par, \"OM\", w0[i] )\n",
    "    lalpulsar.PulsarAddREAL8Param( par, \"T0\", t[0]+T0[i]*Pb )\n",
    "    lalpulsar.PulsarAddREAL8Param( par, \"GAMMA\", gamma[i] )\n",
    "    lalpulsar.PulsarAddREAL8Param( par, \"A1\", asini[i] )\n",
    "\n",
    "    # set GPS time\n",
    "    for j, tv in enumerate(t):\n",
    "        bininput.tb = tv\n",
    "        \n",
    "        # perform binary barycentring\n",
    "        lalpulsar.BinaryPulsarDeltaTNew( binoutput, bininput, par )\n",
    "        deltaTs[j] = binoutput.deltaT\n",
    "    \n",
    "    deltaTsArray.append(np.copy(deltaTs))"
   ]
  },
  {
   "cell_type": "code",
   "execution_count": 9,
   "metadata": {},
   "outputs": [
    {
     "name": "stdout",
     "output_type": "stream",
     "text": [
      "Total time for evalution = 0.001717091\n",
      "time for one evaluation = 0.000000477\n"
     ]
    }
   ],
   "source": [
    "# perform some timing evalution\n",
    "ts = np.zeros(len(t))\n",
    "tsTW1 = np.zeros(len(t))\n",
    "tsTW2 = np.zeros(len(t))\n",
    "\n",
    "ta = time()\n",
    "dt, deltaTW1, deltaTW2 = binary_model(w0[-1], t[0]+T0[-1]*Pb, Pb, asini[-1], ecc[-1], gamma[-1], t)\n",
    "tb = time()\n",
    "\n",
    "print(\"Total time for evalution = %.9f\" % (tb-ta))\n",
    "print(\"time for one evaluation = %.9f\" % ((tb-ta)/len(t)))"
   ]
  },
  {
   "cell_type": "code",
   "execution_count": 10,
   "metadata": {},
   "outputs": [
    {
     "name": "stdout",
     "output_type": "stream",
     "text": [
      "10000 loops, best of 3: 28 µs per loop\n",
      "The slowest run took 1034.70 times longer than the fastest. This could mean that an intermediate result is being cached.\n",
      "100000 loops, best of 3: 15.9 µs per loop\n",
      "10000 loops, best of 3: 27.8 µs per loop\n",
      "The slowest run took 355.08 times longer than the fastest. This could mean that an intermediate result is being cached.\n",
      "100000 loops, best of 3: 17 µs per loop\n",
      "10000000 loops, best of 3: 53.2 ns per loop\n"
     ]
    }
   ],
   "source": [
    "# get deltaTs calculated using interpolant\n",
    "SU = []\n",
    "dtvals = np.zeros(Nb1)\n",
    "\n",
    "ts_nodes1 = np.loadtxt(os.path.join(rundir1, 'EIM_nodes.txt'))\n",
    "\n",
    "B1 = np.einsum('ik,ij->kj', invV1, rb1)\n",
    "\n",
    "# get deltats calculated using the reduced basis\n",
    "for i in range(nbins):\n",
    "    # get values of eccentric anomaly at given points\n",
    "    su, cu = eccentric_anomaly(t[0]+T0[i]*Pb, Pb, ecc[i], ts_nodes1)\n",
    "        \n",
    "    # create new version of deltaTs using empirical interpolant matrix\n",
    "    SU.append(np.einsum('i,ij->j', su, B1))\n",
    "\n",
    "# time linear algebra\n",
    "%timeit np.einsum('i,ij->j', su, B1)\n",
    "%timeit np.dot(su, B1)\n",
    "\n",
    "# get deltaTs calculated using interpolant\n",
    "CU = []\n",
    "dtvals = np.zeros(Nb2)\n",
    "\n",
    "ts_nodes2 = np.loadtxt(os.path.join(rundir2, 'EIM_nodes.txt'))\n",
    "\n",
    "B2 = np.einsum('ik,ij->kj', invV2, rb2)\n",
    "\n",
    "# get deltats calculated using the reduced basis\n",
    "for i in range(nbins):\n",
    "    # get values of eccentric anomaly at given points\n",
    "    su, cu = eccentric_anomaly(t[0]+T0[i]*Pb, Pb, ecc[i], ts_nodes2)\n",
    "    \n",
    "    # create new version of deltaTs using empirical interpolant matrix\n",
    "    CU.append(np.einsum('i,ij->j', cu, B2))\n",
    "\n",
    "# time linear algebra\n",
    "%timeit np.einsum('i,ij->j', cu, B2)\n",
    "%timeit np.dot(cu, B2)\n",
    "\n",
    "deltaTsArrayFull = []\n",
    "for i in range(nbins):\n",
    "    deltaTsArrayFull.append(binary_model_EA(w0[i], Pb, asini[i], ecc[i], gamma[i], SU[i], CU[i]))\n",
    "    \n",
    "%timeit lambda x: binary_model_EA(w0[i], Pb, asini[i], ecc[i], gamma[i], SU[i], CU[i])"
   ]
  },
  {
   "cell_type": "code",
   "execution_count": 11,
   "metadata": {},
   "outputs": [
    {
     "data": {
      "image/png": "[encoded data removed]",
      "text/plain": [
       "<matplotlib.figure.Figure at 0x7f3ee2779990>"
      ]
     },
     "metadata": {},
     "output_type": "display_data"
    }
   ],
   "source": [
    "fig, ax1 = pl.subplots(figsize=(10,7))\n",
    "\n",
    "ax1.plot(t-t[0], (deltaTsArrayFull[0]-deltaTsArray[0])*1e9)\n",
    "\n",
    "ax1.set_ylabel('Time Residuals (ns)')\n",
    "ax1.set_xlabel('Time (sec)')\n",
    "ax1.set_xlim([0., (t[-1]-t[0])])\n",
    "\n",
    "fig.tight_layout()"
   ]
  },
  {
   "cell_type": "code",
   "execution_count": 12,
   "metadata": {},
   "outputs": [
    {
     "data": {
      "text/plain": [
       "(array([ 813.,  106.,   32.,   15.,    8.,    3.,    4.,    8.,    2.,\n",
       "           3.,    2.,    1.,    1.,    1.,    0.,    0.,    0.,    0.,\n",
       "           0.,    1.]),\n",
       " array([  6.76381564e-03,   9.80608697e+00,   1.96054101e+01,\n",
       "          2.94047333e+01,   3.92040564e+01,   4.90033796e+01,\n",
       "          5.88027028e+01,   6.86020259e+01,   7.84013491e+01,\n",
       "          8.82006722e+01,   9.79999954e+01,   1.07799319e+02,\n",
       "          1.17598642e+02,   1.27397965e+02,   1.37197288e+02,\n",
       "          1.46996611e+02,   1.56795934e+02,   1.66595258e+02,\n",
       "          1.76394581e+02,   1.86193904e+02,   1.95993227e+02]),\n",
       " <a list of 1 Patch objects>)"
      ]
     },
     "execution_count": 12,
     "metadata": {},
     "output_type": "execute_result"
    },
    {
     "data": {
      "image/png": "[encoded data removed]",
      "text/plain": [
       "<matplotlib.figure.Figure at 0x7f3ee2609190>"
      ]
     },
     "metadata": {},
     "output_type": "display_data"
    }
   ],
   "source": [
    "maxdt = []\n",
    "for i in range(nbins):\n",
    "    maxdt.append(np.max(np.fabs((deltaTsArrayFull[i]-deltaTsArray[i])*1e9)))\n",
    "\n",
    "pl.hist(maxdt, bins=20, histtype='stepfilled', alpha=0.75)"
   ]
  },
  {
   "cell_type": "code",
   "execution_count": 13,
   "metadata": {
    "collapsed": true
   },
   "outputs": [],
   "source": [
    "# compare times\n",
    "full = 0.00172*1e6 # time in microseconds\n",
    "\n",
    "rom = 0.000000477*1e6*(Nb1 + Nb2) # time for computing time delay at nodes\n",
    "rom += 28.0  # matrix multiplication (for first term)\n",
    "rom += 15.9  # dot product for first term\n",
    "rom += 27.8  # matrix multiplication (for second term)\n",
    "rom += 17.0  # dot product for second term\n",
    "rom += 53e-3 # combining terms for full time delay"
   ]
  },
  {
   "cell_type": "code",
   "execution_count": 14,
   "metadata": {},
   "outputs": [
    {
     "name": "stdout",
     "output_type": "stream",
     "text": [
      "1720.0 105.925 16.2379041775\n"
     ]
    }
   ],
   "source": [
    "print full, rom, (full/rom)"
   ]
  },
  {
   "cell_type": "markdown",
   "metadata": {},
   "source": [
    "On the above examples see how well linear interpolation half-way between each of time stamps from delays calculated using the ROM compares to the full calculation at those new time positions."
   ]
  },
  {
   "cell_type": "code",
   "execution_count": 15,
   "metadata": {},
   "outputs": [
    {
     "data": {
      "text/plain": [
       "(array([ 813.,  106.,   32.,   15.,    8.,    3.,    4.,    8.,    2.,\n",
       "           3.,    2.,    1.,    1.,    1.,    0.,    0.,    0.,    0.,\n",
       "           0.,    1.]),\n",
       " array([  6.76381564e-03,   9.80608697e+00,   1.96054101e+01,\n",
       "          2.94047333e+01,   3.92040564e+01,   4.90033796e+01,\n",
       "          5.88027028e+01,   6.86020259e+01,   7.84013491e+01,\n",
       "          8.82006722e+01,   9.79999954e+01,   1.07799319e+02,\n",
       "          1.17598642e+02,   1.27397965e+02,   1.37197288e+02,\n",
       "          1.46996611e+02,   1.56795934e+02,   1.66595258e+02,\n",
       "          1.76394581e+02,   1.86193904e+02,   1.95993227e+02]),\n",
       " <a list of 1 Patch objects>)"
      ]
     },
     "execution_count": 15,
     "metadata": {},
     "output_type": "execute_result"
    },
    {
     "data": {
      "image/png": "[encoded data removed]",
      "text/plain": [
       "<matplotlib.figure.Figure at 0x7f3ee26e9d10>"
      ]
     },
     "metadata": {},
     "output_type": "display_data"
    }
   ],
   "source": [
    "from scipy.interpolate import splrep, splev\n",
    "\n",
    "newts = t[0:-1] + np.diff(t)/2.\n",
    "\n",
    "maxdtsint = []\n",
    "maxdtsintspl = []\n",
    "\n",
    "for i in range(nbins):\n",
    "    dtinterplinear = np.interp(newts, t, deltaTsArrayFull[i])\n",
    "    tspl, cspl, kspl = splrep(t, deltaTsArrayFull[i])\n",
    "    dtinterpspline = splev(newts, (tspl, cspl,  kspl))\n",
    "    \n",
    "    dtactual, _, _ = binary_model(w0[i], t[0]+T0[i]*Pb, Pb, asini[i], ecc[i], gamma[i], newts)\n",
    "    \n",
    "    maxdtsint.append(np.max(np.fabs((dtinterplinear-dtactual)*1e9)))\n",
    "    maxdtsintspl.append(np.max(np.fabs((dtinterpspline-dtactual)*1e9)))\n",
    "\n",
    "fig, ax = pl.subplots(1)\n",
    "#ax.hist(maxdtsint, bins=20, histtype='stepfilled', color='r', alpha=0.75)\n",
    "ax.hist(maxdtsintspl, bins=20, histtype='stepfilled', color='b', alpha=0.75)\n",
    "ax.hist(maxdt, bins=20, histtype='step', color='r', alpha=0.75)"
   ]
  },
  {
   "cell_type": "markdown",
   "metadata": {},
   "source": [
    "Now run the code on a variety of simulated binaries, but allow the period and projected semi-major axis to vary."
   ]
  },
  {
   "cell_type": "code",
   "execution_count": 29,
   "metadata": {
    "collapsed": true
   },
   "outputs": [],
   "source": [
    "nbins = 1000\n",
    "\n",
    "Pbmin = 60. # 6 second minimum\n",
    "Pbmax = Pb*2.\n",
    "\n",
    "#Pbs = Pb*10.*np.random.rand(nbins)\n",
    "Pbs = np.linspace(Pbmin, Pbmax, nbins)\n",
    "asini = 10.*np.random.rand(nbins)\n",
    "\n",
    "eccmax = 0.1 # maximum eccentricity of the basis set\n",
    "ecc = eccmax*np.random.rand(nbins)\n",
    "w0 = 2.*np.pi*np.random.rand(nbins)\n",
    "T0 = np.random.rand(nbins)\n",
    "\n",
    "deltaTsArrayTrue = []\n",
    "\n",
    "# get deltaTs calculated using interpolant\n",
    "SUNew = []\n",
    "dtvals = np.zeros(Nb1)\n",
    "\n",
    "ts_nodes1 = np.loadtxt(os.path.join(rundir1, 'EIM_nodes.txt'))\n",
    "\n",
    "# get deltats calculated using the reduced basis\n",
    "for i in range(nbins):\n",
    "    su, cu = eccentric_anomaly(t[0]+T0[i]*Pb, Pb, ecc[i], ts_nodes1)\n",
    "        \n",
    "    # create new version of deltaTs using empirical interpolant matrix\n",
    "    SUNew.append(np.einsum('i,ij->j', su, B1))\n",
    "\n",
    "    # get actual delays\n",
    "    dtvals, _, _ = binary_model(w0[i], t[0]+T0[i]*Pbs[i], Pbs[i], asini[i], ecc[i], gamma[i], t)\n",
    "    deltaTsArrayTrue.append(dtvals)\n",
    "\n",
    "# get deltaTs calculated using interpolant\n",
    "CUNew = []\n",
    "dtvals = np.zeros(Nb2)\n",
    "\n",
    "# get deltats calculated using the reduced basis\n",
    "for i in range(nbins):\n",
    "    su, cu = eccentric_anomaly(t[0]+T0[i]*Pb, Pb, ecc[i], ts_nodes2)\n",
    "        \n",
    "    # create new version of deltaTs using empirical interpolant matrix\n",
    "    CUNew.append(np.einsum('i,ij->j', cu, B2))\n",
    "\n",
    "deltaTsArrayFullNew = []\n",
    "differences = []\n",
    "for i in range(nbins):\n",
    "    deltaTsArrayFullNew.append(binary_model_EA(w0[i], Pb, asini[i], ecc[i], gamma[i], SUNew[i], CUNew[i]))\n",
    "    tspl, cspl, kspl = splrep((t-t[0])*Pbs[i]/Pb, deltaTsArrayFullNew[i])\n",
    "    dtinterpspline2 = splev(np.mod(t-t[0], Pbs[i]), (tspl, cspl,  kspl))\n",
    "    differences.append(np.max(np.fabs((dtinterpspline2-deltaTsArrayTrue[i])*1e9)))"
   ]
  },
  {
   "cell_type": "code",
   "execution_count": 30,
   "metadata": {},
   "outputs": [
    {
     "data": {
      "text/plain": [
       "[<matplotlib.lines.Line2D at 0x7f3ed8be4f10>]"
      ]
     },
     "execution_count": 30,
     "metadata": {},
     "output_type": "execute_result"
    },
    {
     "data": {
      "image/png": "[encoded data removed]",
      "text/plain": [
       "<matplotlib.figure.Figure at 0x7f3ed8be4dd0>"
      ]
     },
     "metadata": {},
     "output_type": "display_data"
    }
   ],
   "source": [
    "pl.plot(deltaTsArrayFullNew[-1], 'r')\n",
    "pl.plot(deltaTsArrayTrue[-1], 'b')\n",
    "pl.plot(dtinterpspline2-deltaTsArrayTrue[-1], 'g-.')"
   ]
  },
  {
   "cell_type": "code",
   "execution_count": 28,
   "metadata": {},
   "outputs": [
    {
     "data": {
      "text/plain": [
       "5.5246785787520025"
      ]
     },
     "execution_count": 28,
     "metadata": {},
     "output_type": "execute_result"
    }
   ],
   "source": [
    "Pbs[-1]/3600."
   ]
  },
  {
   "cell_type": "code",
   "execution_count": 31,
   "metadata": {},
   "outputs": [
    {
     "data": {
      "text/plain": [
       "(array([ 936.,   39.,    6.,    6.,    3.,    3.,    1.,    3.,    2.,\n",
       "           0.,    0.,    0.,    0.,    0.,    0.,    0.,    0.,    0.,\n",
       "           0.,    1.]),\n",
       " array([  3.70304789e+00,   1.71496649e+08,   3.42993294e+08,\n",
       "          5.14489939e+08,   6.85986585e+08,   8.57483230e+08,\n",
       "          1.02897988e+09,   1.20047652e+09,   1.37197317e+09,\n",
       "          1.54346981e+09,   1.71496646e+09,   1.88646310e+09,\n",
       "          2.05795975e+09,   2.22945639e+09,   2.40095304e+09,\n",
       "          2.57244968e+09,   2.74394633e+09,   2.91544297e+09,\n",
       "          3.08693962e+09,   3.25843626e+09,   3.42993291e+09]),\n",
       " <a list of 1 Patch objects>)"
      ]
     },
     "execution_count": 31,
     "metadata": {},
     "output_type": "execute_result"
    },
    {
     "data": {
      "image/png": "[encoded data removed]",
      "text/plain": [
       "<matplotlib.figure.Figure at 0x7f3ed8adf790>"
      ]
     },
     "metadata": {},
     "output_type": "display_data"
    }
   ],
   "source": [
    "pl.hist(differences, bins=20, histtype='stepfilled', alpha=0.75)"
   ]
  },
  {
   "cell_type": "code",
   "execution_count": 224,
   "metadata": {},
   "outputs": [
    {
     "data": {
      "text/plain": [
       "([20729.982463940643,\n",
       "  304.12978113680822,\n",
       "  356.42719131701028,\n",
       "  1.3930424869190716,\n",
       "  12751.378713815597,\n",
       "  3195.6587038806106,\n",
       "  123.85578962437194,\n",
       "  1.2209787070283085,\n",
       "  833.54892499443167,\n",
       "  4.4238566143661728],\n",
       " array([  60.        ,   67.14714715,   74.29429429,   81.44144144,\n",
       "          88.58858859,   95.73573574,  102.88288288,  110.03003003,\n",
       "         117.17717718,  124.32432432]))"
      ]
     },
     "execution_count": 224,
     "metadata": {},
     "output_type": "execute_result"
    }
   ],
   "source": [
    "differences[0:10], Pbs[0:10]"
   ]
  },
  {
   "cell_type": "code",
   "execution_count": 32,
   "metadata": {},
   "outputs": [
    {
     "data": {
      "text/plain": [
       "[<matplotlib.lines.Line2D at 0x7f3ed8a7e3d0>]"
      ]
     },
     "execution_count": 32,
     "metadata": {},
     "output_type": "execute_result"
    },
    {
     "data": {
      "image/png": "[encoded data removed]",
      "text/plain": [
       "<matplotlib.figure.Figure at 0x7f3ed8a7e350>"
      ]
     },
     "metadata": {},
     "output_type": "display_data"
    }
   ],
   "source": [
    "pl.plot(deltaTsArrayFullNew[430], 'r')\n",
    "pl.plot(deltaTsArrayTrue[430], 'b')"
   ]
  },
  {
   "cell_type": "code",
   "execution_count": null,
   "metadata": {
    "collapsed": true
   },
   "outputs": [],
   "source": []
  }
 ],
 "metadata": {
  "kernelspec": {
   "display_name": "Python 2",
   "language": "python",
   "name": "python2"
  },
  "language_info": {
   "codemirror_mode": {
    "name": "ipython",
    "version": 2
   },
   "file_extension": ".py",
   "mimetype": "text/x-python",
   "name": "python",
   "nbconvert_exporter": "python",
   "pygments_lexer": "ipython2",
   "version": "2.7.12"
  }
 },
 "nbformat": 4,
 "nbformat_minor": 2
}
