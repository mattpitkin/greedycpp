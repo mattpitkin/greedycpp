{
 "cells": [
  {
   "cell_type": "code",
   "execution_count": 1,
   "metadata": {},
   "outputs": [],
   "source": [
    "%matplotlib inline\n",
    "\n",
    "import os\n",
    "import sys\n",
    "import subprocess as sp\n",
    "\n",
    "sys.path.append(\"/home/matthew/lscsoft/.virtualenvs/master/lib/python2.7/site-packages\")\n",
    "\n",
    "import numpy as np\n",
    "from matplotlib import pyplot as pl\n",
    "import matplotlib as mpl\n",
    "\n",
    "mpl.rcParams['text.usetex'] = True\n",
    "mpl.rcParams['font.family'] = 'sans-serif'\n",
    "mpl.rcParams['font.sans-serif'] ='Avant Garde, Helvetica, Computer Modern Sans serif'\n",
    "mpl.rcParams['font.size'] = 15"
   ]
  },
  {
   "cell_type": "code",
   "execution_count": 2,
   "metadata": {
    "collapsed": true
   },
   "outputs": [],
   "source": [
    "configtemplate = r\"\"\"// Configuration file for running greedycpp with the 'BinaryBarycenter' model\n",
    "\n",
    "// start time, end time and number of time points\n",
    "x_min = {starttime};     // GPS start time\n",
    "x_max = {endtime};       // GPS end time\n",
    "quad_points = {npoints}; // number of time points\n",
    "\n",
    "// model information\n",
    "model_name = \"BinaryBarycenter_{eccu}\";\n",
    "\n",
    "// inner product information\n",
    "quad_type = 1;\n",
    "weighted_inner = false;\n",
    "\n",
    "param_dim = 2;\n",
    "load_from_file = true; // load training points (T0 and eccentricity values) from file\n",
    "p1_scale = 1.0;        // scaling for T0\n",
    "p2_scale = 1.0;        // scaling for eccentricity\n",
    "\n",
    "ts_file = \"TS_points.txt\";  // location of training points file\n",
    "\n",
    "// greedy algoritm information\n",
    "seed = 0;\n",
    "tol = {tolerance};  // greedy algorithm tolerance (maximum residual time error)\n",
    "max_RB = {maxrb};   // estimated upper bound in number of reduced bases\n",
    "\n",
    "// output information\n",
    "export_tspace = false;\n",
    "output_dir = \".\";      // output directory\n",
    "output_data_format = \"both\"; // output both in binary and text format\n",
    "\"\"\"\n",
    "\n",
    "# create start time and end time to span one hour with one point every second\n",
    "starttime = 900000000.0\n",
    "endtime = 900003600.0\n",
    "npoints = 3601\n",
    "\n",
    "tolerance = 1e-7 # tolerance in seconds\n",
    "maxrb = 500 # maximum number of reduced bases\n",
    "\n",
    "configdic = {}\n",
    "configdic['starttime'] = starttime\n",
    "configdic['endtime'] = endtime\n",
    "configdic['npoints'] = npoints\n",
    "configdic['tolerance'] = tolerance\n",
    "configdic['maxrb'] = maxrb"
   ]
  },
  {
   "cell_type": "code",
   "execution_count": 3,
   "metadata": {
    "collapsed": true
   },
   "outputs": [],
   "source": [
    "binpath = os.path.abspath('../../../../bin') # greedycpp binary path \n",
    "\n",
    "# set library path\n",
    "lds = 'export LD_LIBRARY_PATH=${LD_LIBRARY_PATH}:/home/matthew/lscsoft/.virtualenvs/master/lib'\n",
    "\n",
    "# set eccentricities\n",
    "eccs = [0., 0.01, 0.025, 0.05, 0.1, 0.2, 0.3, 0.4, 0.5, 0.6, 0.7, 0.8, 0.9]\n",
    "ntraining = 5000 # number of training points to use\n",
    "\n",
    "Nbecc = []\n",
    "\n",
    "for ecc in eccs:\n",
    "    # generate training points\n",
    "    sp.call('../generate_trainingpoints_binary.py -N {} -e {} -o {}'.format(ntraining, ecc, 'TS_points.txt'), shell=True);\n",
    "\n",
    "    Nbs = []\n",
    "    for gu in ['SinU', 'CosU']:\n",
    "        configfile = '{}.cfg'.format(gu)\n",
    "\n",
    "        configdic['eccu'] = gu\n",
    "\n",
    "        fp = open(configfile, 'w')\n",
    "        fp.write(configtemplate.format(**configdic))\n",
    "        fp.close()\n",
    "    \n",
    "        gcppexec = os.path.join(binpath, 'greedyBarycenter')\n",
    "    \n",
    "        # run greedy algorithm on binary training points\n",
    "        sp.call('{}; {} {}'.format(lds, gcppexec, configfile), shell=True);\n",
    "\n",
    "        # get number of basis\n",
    "        Nb = np.loadtxt('ApproxErrors.txt').shape[0]\n",
    "        Nbs.append(Nb)\n",
    "    Nbecc.append(Nbs)"
   ]
  },
  {
   "cell_type": "code",
   "execution_count": 18,
   "metadata": {},
   "outputs": [],
   "source": [
    "Nbecca = np.array(Nbecc)\n",
    "\n",
    "# output eccentricities and numbers of bases\n",
    "from astropy.table import Table\n",
    "\n",
    "t = Table(names=('eccentricity', 'No. bases sinU', 'No. bases cosU'), dtype=('f8', 'i4', 'i4'))\n",
    "for ecc, nbe in zip(eccs, Nbecc):\n",
    "    t.add_row((ecc, nbe[0], nbe[1]))\n",
    "    \n",
    "t.write('ecc_numbases.txt', format='ascii.commented_header', overwrite=True)"
   ]
  },
  {
   "cell_type": "code",
   "execution_count": 13,
   "metadata": {},
   "outputs": [
    {
     "data": {
      "text/plain": [
       "[<matplotlib.lines.Line2D at 0x7fe55c786c50>]"
      ]
     },
     "execution_count": 13,
     "metadata": {},
     "output_type": "execute_result"
    },
    {
     "data": {
      "image/png": "[encoded data removed]",
      "text/plain": [
       "<matplotlib.figure.Figure at 0x7fe55c851d10>"
      ]
     },
     "metadata": {},
     "output_type": "display_data"
    }
   ],
   "source": [
    "\n",
    "\n",
    "\n",
    "\n",
    "fig, ax = pl.subplots(figsize=(10, 7))\n",
    "ax.semilogy(eccs, Nbecca[:,0], 'r')\n",
    "ax.semilogy(eccs, Nbecca[:,1], 'b')"
   ]
  },
  {
   "cell_type": "code",
   "execution_count": 15,
   "metadata": {},
   "outputs": [
    {
     "data": {
      "text/html": [
       "&lt;Table length=13&gt;\n",
       "<table id=\"table140623039191120\" class=\"table-striped table-bordered table-condensed\">\n",
       "<thead><tr><th>eccentricity</th><th>No. bases sinU</th><th>No. bases cosU</th></tr></thead>\n",
       "<thead><tr><th>float32</th><th>int32</th><th>int32</th></tr></thead>\n",
       "<tr><td>0.0</td><td>3</td><td>3</td></tr>\n",
       "<tr><td>0.01</td><td>9</td><td>10</td></tr>\n",
       "<tr><td>0.025</td><td>11</td><td>12</td></tr>\n",
       "<tr><td>0.05</td><td>14</td><td>16</td></tr>\n",
       "<tr><td>0.1</td><td>17</td><td>18</td></tr>\n",
       "<tr><td>0.2</td><td>25</td><td>27</td></tr>\n",
       "<tr><td>0.3</td><td>35</td><td>36</td></tr>\n",
       "<tr><td>0.4</td><td>50</td><td>50</td></tr>\n",
       "<tr><td>0.5</td><td>66</td><td>67</td></tr>\n",
       "<tr><td>0.6</td><td>98</td><td>98</td></tr>\n",
       "<tr><td>0.7</td><td>148</td><td>149</td></tr>\n",
       "<tr><td>0.8</td><td>252</td><td>248</td></tr>\n",
       "<tr><td>0.9</td><td>467</td><td>453</td></tr>\n",
       "</table>"
      ],
      "text/plain": [
       "<Table length=13>\n",
       "eccentricity No. bases sinU No. bases cosU\n",
       "  float32        int32          int32     \n",
       "------------ -------------- --------------\n",
       "         0.0              3              3\n",
       "        0.01              9             10\n",
       "       0.025             11             12\n",
       "        0.05             14             16\n",
       "         0.1             17             18\n",
       "         0.2             25             27\n",
       "         0.3             35             36\n",
       "         0.4             50             50\n",
       "         0.5             66             67\n",
       "         0.6             98             98\n",
       "         0.7            148            149\n",
       "         0.8            252            248\n",
       "         0.9            467            453"
      ]
     },
     "execution_count": 15,
     "metadata": {},
     "output_type": "execute_result"
    }
   ],
   "source": [
    "t"
   ]
  },
  {
   "cell_type": "code",
   "execution_count": null,
   "metadata": {
    "collapsed": true
   },
   "outputs": [],
   "source": []
  }
 ],
 "metadata": {
  "kernelspec": {
   "display_name": "Python 2",
   "language": "python",
   "name": "python2"
  },
  "language_info": {
   "codemirror_mode": {
    "name": "ipython",
    "version": 2
   },
   "file_extension": ".py",
   "mimetype": "text/x-python",
   "name": "python",
   "nbconvert_exporter": "python",
   "pygments_lexer": "ipython2",
   "version": "2.7.12"
  }
 },
 "nbformat": 4,
 "nbformat_minor": 2
}
