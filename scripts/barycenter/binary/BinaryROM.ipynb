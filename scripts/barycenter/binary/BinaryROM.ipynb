{
 "cells": [
  {
   "cell_type": "code",
   "execution_count": 1,
   "metadata": {
    "collapsed": true
   },
   "outputs": [],
   "source": [
    "%matplotlib inline\n",
    "\n",
    "import os\n",
    "import sys\n",
    "import struct\n",
    "from time import time\n",
    "\n",
    "sys.path.append(\"/home/matthew/lscsoft/.virtualenvs/lalapps_knope_O2/lib/python2.7/site-packages\")\n",
    "\n",
    "import numpy as np\n",
    "from matplotlib import pyplot as pl\n",
    "\n",
    "import lalpulsar"
   ]
  },
  {
   "cell_type": "code",
   "execution_count": 22,
   "metadata": {},
   "outputs": [],
   "source": [
    "%load_ext Cython"
   ]
  },
  {
   "cell_type": "code",
   "execution_count": 72,
   "metadata": {},
   "outputs": [],
   "source": [
    "%%cython --compile-args=-O2\n",
    "\n",
    "import numpy as np\n",
    "cimport numpy as np\n",
    "\n",
    "from libc.math cimport sqrt, cos, sin\n",
    "\n",
    "from lalpulsar import ComputeEccentricAnomaly\n",
    "\n",
    "# function to return binary BT model\n",
    "def binary_model(w0, T0, Pb, asini, ecc, ts):\n",
    "    # calculate the binary time delay for a Keplerian orbit\n",
    "    \n",
    "    orbits = (ts - T0)/Pb\n",
    "    \n",
    "    phase = 2.*np.pi*np.fmod(orbits, 1.)\n",
    "    \n",
    "    #u = eccentric_anomaly(phase, ecc)\n",
    "    l = len(phase)\n",
    "    u = np.zeros(l)\n",
    "    for i in xrange(l):\n",
    "        u[i] = ComputeEccentricAnomaly(phase[i], ecc)\n",
    "\n",
    "    su = np.sin(u)\n",
    "    cu = np.cos(u)\n",
    "    \n",
    "    sw = np.sin(w0)\n",
    "    cw = np.cos(w0)\n",
    "    \n",
    "    x = asini\n",
    "    e = ecc\n",
    "    \n",
    "    one_e2 = sqrt(1. - e**2)\n",
    "    \n",
    "    deltaTW1 = x*sw*(cu - e) + x*cw*one_e2*su\n",
    "    deltaTW2 = (2.*np.pi/Pb)*(x*cw*one_e2*cu - x*sw*su)/(1.0 - e*cu)\n",
    "    \n",
    "    dt = -(deltaTW1*(1. - deltaTW2))\n",
    "    \n",
    "    return dt, deltaTW1, deltaTW2    "
   ]
  },
  {
   "cell_type": "code",
   "execution_count": 5,
   "metadata": {},
   "outputs": [],
   "source": [
    "# show test of residuals\n",
    "rundir1 = '/home/matthew/repositories/greedycpp/scripts/barycenter/binary/term1'\n",
    "\n",
    "# get time stamps\n",
    "ts = np.loadtxt(os.path.join(rundir1, 'quad_rule.txt'))\n",
    "t = ts[:,0]\n",
    "\n",
    "lenb = len(t)\n",
    "\n",
    "# get number of basis\n",
    "Nb1 = np.loadtxt(os.path.join(rundir1, 'ApproxErrors.txt')).shape[0]\n",
    "\n",
    "# read in binary version of reduced basis data\n",
    "bf = open(os.path.join(rundir1,'Basis.bin'), 'rb')\n",
    "fc = bf.read()\n",
    "bf.close()\n",
    "\n",
    "rb1 = np.zeros((Nb1,lenb))\n",
    "for i in range(Nb1):\n",
    "    tmpvals = struct.unpack('d'*lenb*2, fc[(i*8*lenb*2):(i+1)*8*lenb*2])\n",
    "    rb1[i] = tmpvals[::2] # just get real part\n",
    "    \n",
    "# read in binary version of empirical interpolation matrix\n",
    "invV1 = np.zeros((Nb1, Nb1))\n",
    "bf = open(os.path.join(rundir1,'invV.bin'), 'rb')\n",
    "fc = bf.read()\n",
    "bf.close()\n",
    "for i in range(Nb1):\n",
    "    tmpvals = struct.unpack('d'*Nb1*2, fc[(i*8*Nb1*2):(i+1)*8*Nb1*2])\n",
    "    invV1[i] = tmpvals[::2] # just get real part\n",
    "    \n",
    "# show test of residuals\n",
    "rundir2 = '/home/matthew/repositories/greedycpp/scripts/barycenter/binary/term2'\n",
    "\n",
    "# get number of basis\n",
    "Nb2 = np.loadtxt(os.path.join(rundir2, 'ApproxErrors.txt')).shape[0]\n",
    "\n",
    "# read in binary version of reduced basis data\n",
    "bf = open(os.path.join(rundir2,'Basis.bin'), 'rb')\n",
    "fc = bf.read()\n",
    "bf.close()\n",
    "\n",
    "rb2 = np.zeros((Nb2,lenb))\n",
    "for i in range(Nb2):\n",
    "    tmpvals = struct.unpack('d'*lenb*2, fc[(i*8*lenb*2):(i+1)*8*lenb*2])\n",
    "    rb2[i] = tmpvals[::2] # just get real part\n",
    "    \n",
    "# read in binary version of empirical interpolation matrix\n",
    "invV2 = np.zeros((Nb2, Nb2))\n",
    "bf = open(os.path.join(rundir2,'invV.bin'), 'rb')\n",
    "fc = bf.read()\n",
    "bf.close()\n",
    "for i in range(Nb2):\n",
    "    tmpvals = struct.unpack('d'*Nb2*2, fc[(i*8*Nb2*2):(i+1)*8*Nb2*2])\n",
    "    invV2[i] = tmpvals[::2] # just get real part"
   ]
  },
  {
   "cell_type": "code",
   "execution_count": 92,
   "metadata": {},
   "outputs": [],
   "source": [
    "# get random phases, start times and eccentricities and check residuals\n",
    "nbins = 1000\n",
    "\n",
    "# fixed parameters\n",
    "Pb = 86400.\n",
    "asini = 1.\n",
    "\n",
    "eccmax = 0.1 # maximum eccentricity of the basis set\n",
    "ecc = eccmax*np.random.rand(nbins)\n",
    "w0 = 2.*np.pi*np.random.rand(nbins)\n",
    "T0 = np.random.rand(nbins)\n",
    "\n",
    "deltaTs = np.zeros(lenb)\n",
    "deltaTsArray = []\n",
    "\n",
    "par = lalpulsar.PulsarParameters()\n",
    "\n",
    "binarytype = \"BT\"\n",
    "lalpulsar.PulsarAddREAL8Param( par, \"PB\", Pb )\n",
    "lalpulsar.PulsarAddREAL8Param( par, \"A1\", asini )\n",
    "lalpulsar.PulsarAddStringParam( par, \"BINARY\", binarytype )\n",
    "\n",
    "# get deltaTs calculated over all times using LALBarycenter routines\n",
    "for i in range(nbins):\n",
    "    bininput = lalpulsar.BinaryPulsarInput()\n",
    "    binoutput = lalpulsar.BinaryPulsarOutput()\n",
    "    \n",
    "    lalpulsar.PulsarAddREAL8Param( par, \"ECC\", ecc[i] )\n",
    "    lalpulsar.PulsarAddREAL8Param( par, \"OM\", w0[i] )\n",
    "    lalpulsar.PulsarAddREAL8Param( par, \"T0\", t[0]+T0[i]*Pb )\n",
    "\n",
    "    # set GPS time\n",
    "    for j, tv in enumerate(t):\n",
    "        bininput.tb = tv\n",
    "        \n",
    "        # perform binary barycentring\n",
    "        lalpulsar.BinaryPulsarDeltaTNew( binoutput, bininput, par )\n",
    "        deltaTs[j] = binoutput.deltaT\n",
    "    \n",
    "    deltaTsArray.append(np.copy(deltaTs))"
   ]
  },
  {
   "cell_type": "code",
   "execution_count": 85,
   "metadata": {},
   "outputs": [
    {
     "name": "stdout",
     "output_type": "stream",
     "text": [
      "Total time for evalution = 0.000701904\n",
      "time for one evaluation = 0.000000501\n"
     ]
    }
   ],
   "source": [
    "# perform some timing evalution\n",
    "ts = np.zeros(len(t))\n",
    "tsTW1 = np.zeros(len(t))\n",
    "tsTW2 = np.zeros(len(t))\n",
    "\n",
    "ta = time()\n",
    "dt, deltaTW1, deltaTW2 = binary_model(w0[-1], t[0]+T0[-1]*Pb, Pb, asini, ecc[-1], t)\n",
    "tb = time()\n",
    "\n",
    "print(\"Total time for evalution = %.9f\" % (tb-ta))\n",
    "print(\"time for one evaluation = %.9f\" % ((tb-ta)/len(t)))"
   ]
  },
  {
   "cell_type": "code",
   "execution_count": 100,
   "metadata": {},
   "outputs": [
    {
     "name": "stdout",
     "output_type": "stream",
     "text": [
      "100000 loops, best of 3: 11.7 µs per loop\n",
      "The slowest run took 17.63 times longer than the fastest. This could mean that an intermediate result is being cached.\n",
      "100000 loops, best of 3: 7.21 µs per loop\n",
      "100000 loops, best of 3: 6.63 µs per loop\n",
      "The slowest run took 9.29 times longer than the fastest. This could mean that an intermediate result is being cached.\n",
      "100000 loops, best of 3: 6.26 µs per loop\n",
      "10000000 loops, best of 3: 52.8 ns per loop\n"
     ]
    }
   ],
   "source": [
    "# get deltaTs calculated using interpolant\n",
    "deltaTsArrayTerm1 = []\n",
    "dtvals = np.zeros(Nb1)\n",
    "\n",
    "ts_nodes1 = np.loadtxt(os.path.join(rundir1, 'EIM_nodes.txt'))\n",
    "\n",
    "B1 = np.einsum('ik,ij->kj', invV1, rb1)\n",
    "\n",
    "# get deltats calculated using the reduced basis\n",
    "for i in range(nbins):\n",
    "    # get values of deltaT at given points\n",
    "    _, dtvals, _ = binary_model(w0[i], t[0]+T0[i]*Pb, Pb, asini, ecc[i], ts_nodes1)\n",
    "        \n",
    "    # create new version of deltaTs using empirical interpolant matrix\n",
    "    deltaTsArrayTerm1.append(np.einsum('i,ij->j', dtvals, B1))\n",
    "\n",
    "# time linear algebra\n",
    "%timeit np.einsum('i,ij->j', dtvals, B1)\n",
    "%timeit np.dot(dtvals, B1)\n",
    "\n",
    "# get deltaTs calculated using interpolant\n",
    "deltaTsArrayTerm2 = []\n",
    "dtvals = np.zeros(Nb2)\n",
    "\n",
    "ts_nodes2 = np.loadtxt(os.path.join(rundir2, 'EIM_nodes.txt'))\n",
    "\n",
    "B2 = np.einsum('ik,ij->kj', invV2, rb2)\n",
    "\n",
    "# get deltats calculated using the reduced basis\n",
    "for i in range(nbins):    \n",
    "    # get values of deltaT at given points\n",
    "    _, _, dtvals = binary_model(w0[i], t[0]+T0[i]*Pb, Pb, asini, ecc[i], ts_nodes2)\n",
    "\n",
    "    # create new version of deltaTs using empirical interpolant matrix\n",
    "    deltaTsArrayTerm2.append(np.einsum('i,ij->j', dtvals, B2))\n",
    "\n",
    "# time linear algebra\n",
    "%timeit np.einsum('i,ij->j', dtvals, B2)\n",
    "%timeit np.dot(dtvals, B2)\n",
    "\n",
    "deltaTsArrayFull = []\n",
    "for i in range(nbins):\n",
    "    deltaTsArrayFull.append(-deltaTsArrayTerm1[i]*(1.-deltaTsArrayTerm2[i]))\n",
    "    \n",
    "%timeit lambda x:-deltaTsArrayTerm1[0]*(1.-deltaTsArrayTerm2[0])"
   ]
  },
  {
   "cell_type": "code",
   "execution_count": 94,
   "metadata": {},
   "outputs": [
    {
     "data": {
      "image/png": "[encoded data removed]",
      "text/plain": [
       "<matplotlib.figure.Figure at 0x7f0053407e90>"
      ]
     },
     "metadata": {},
     "output_type": "display_data"
    }
   ],
   "source": [
    "fig, ax1 = pl.subplots(figsize=(10,7))\n",
    "\n",
    "ax1.plot(t-t[0], (deltaTsArrayFull[0]-deltaTsArray[0])*1e9)\n",
    "\n",
    "ax1.set_ylabel('Time Residuals (ns)')\n",
    "ax1.set_xlabel('Time (sec)')\n",
    "ax1.set_xlim([0., (t[-1]-t[0])])\n",
    "\n",
    "fig.tight_layout()"
   ]
  },
  {
   "cell_type": "code",
   "execution_count": 98,
   "metadata": {},
   "outputs": [
    {
     "data": {
      "text/plain": [
       "(array([ 231.,  399.,  209.,   71.,   31.,   24.,   10.,    4.,    7.,\n",
       "           4.,    5.,    2.,    0.,    2.,    0.,    0.,    0.,    0.,\n",
       "           0.,    1.]),\n",
       " array([  0.21973001,   1.18306329,   2.14639656,   3.10972983,\n",
       "          4.07306311,   5.03639638,   5.99972966,   6.96306293,\n",
       "          7.92639621,   8.88972948,   9.85306275,  10.81639603,\n",
       "         11.7797293 ,  12.74306258,  13.70639585,  14.66972913,\n",
       "         15.6330624 ,  16.59639567,  17.55972895,  18.52306222,  19.4863955 ]),\n",
       " <a list of 1 Patch objects>)"
      ]
     },
     "execution_count": 98,
     "metadata": {},
     "output_type": "execute_result"
    },
    {
     "data": {
      "image/png": "[encoded data removed]",
      "text/plain": [
       "<matplotlib.figure.Figure at 0x7f00536bf410>"
      ]
     },
     "metadata": {},
     "output_type": "display_data"
    }
   ],
   "source": [
    "maxdt = []\n",
    "for i in range(nbins):\n",
    "    maxdt.append(np.max((deltaTsArrayFull[i]-deltaTsArray[i])*1e9))\n",
    "\n",
    "pl.hist(maxdt, bins=20, histtype='stepfilled', alpha=0.75)"
   ]
  },
  {
   "cell_type": "code",
   "execution_count": 102,
   "metadata": {
    "collapsed": true
   },
   "outputs": [],
   "source": [
    "# compare times\n",
    "full = 0.000701904*1e6 # time in microseconds\n",
    "\n",
    "rom = 0.000000501*1e6*(Nb1 + Nb2) # time for computing time delay at nodes\n",
    "rom += 11.7  # matrix multiplication (for first term)\n",
    "rom += 7.2   # dot product for first term\n",
    "rom += 6.6   # matrix multiplication (for second term)\n",
    "rom += 6.3   # dot product for second term\n",
    "rom += 53e-3 # combining terms for full time delay"
   ]
  },
  {
   "cell_type": "code",
   "execution_count": 103,
   "metadata": {},
   "outputs": [
    {
     "name": "stdout",
     "output_type": "stream",
     "text": [
      "701.904 46.382 15.1331119831\n"
     ]
    }
   ],
   "source": [
    "print full, rom, (full/rom)"
   ]
  },
  {
   "cell_type": "code",
   "execution_count": null,
   "metadata": {
    "collapsed": true
   },
   "outputs": [],
   "source": []
  }
 ],
 "metadata": {
  "kernelspec": {
   "display_name": "Python 2",
   "language": "python",
   "name": "python2"
  },
  "language_info": {
   "codemirror_mode": {
    "name": "ipython",
    "version": 2
   },
   "file_extension": ".py",
   "mimetype": "text/x-python",
   "name": "python",
   "nbconvert_exporter": "python",
   "pygments_lexer": "ipython2",
   "version": "2.7.12"
  }
 },
 "nbformat": 4,
 "nbformat_minor": 2
}
