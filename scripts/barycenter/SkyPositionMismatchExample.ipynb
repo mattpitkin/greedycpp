{
 "cells": [
  {
   "cell_type": "markdown",
   "metadata": {},
   "source": [
    "# Calculate phase mismatch\n",
    "\n",
    "(For a slightly roundabout way) To calculate the phase mismatch I can use the `lalapps_pulsar_frequency_evolution` code. If, for example, I create a fake pulsar close to the ecliptic (in this is roughly in [Pisces](https://en.wikipedia.org/wiki/Pisces_(constellation))) with a par file that looks like:\n",
    "\n",
    "```\n",
    "PSRJ test\n",
    "F0 500\n",
    "RAJ 01:00:00.00\n",
    "DECJ 15:00:00\n",
    "PEPOCH 50000\n",
    "UNITS TDB\n",
    "EPHEM DE405\n",
    "\n",
    "```\n",
    "so that the emission frequency is at 1000 Hz, I can run:\n",
    "\n",
    "```\n",
    "lalapps_pulsar_frequency_evolution --detector H1 --par-file /home/matthew/tmp/pisces.par --start 900000000 --deltat 60 --timespan 3153600 --output-dir .\n",
    "```\n",
    "\n",
    "to create a `frequency_evolution_H1.txt` file containing the frequency evolution over a year in one minute steps.\n",
    "\n",
    "I can then edit the par file to give a slightly different position, e.g., with a change such that `RAJ 01:00:00.02`, and re-run `lalapps_pulsar_frequency_evolution`. If I'd copied the original output file to, e.g., `frequency_evolution_H1_1.txt`, then I can calculate the phase mismatch over the year for the two positions in python via:\n",
    "\n",
    "```python\n",
    "import numpy as np\n",
    "\n",
    "# read in the frequency evolutions for the two different positions\n",
    "f1 = np.loadtxt('frequency_evolution_H1_1.txt')\n",
    "f2 = np.loadtxt('frequency_evolution_H1.txt')\n",
    "\n",
    "# create arrays to hold to phase evolution\n",
    "phases1 = np.zeros(len(f1))\n",
    "phases2 = np.zeros(len(phases1))\n",
    "\n",
    "# calculate the phase evolution\n",
    "for i in range(1, len(phases1)):\n",
    "    phases1[i] = phases1[i-1] + 2.*np.pi*f1[i-1,1]*(f1[i,0]-f1[i-1,0])\n",
    "    \n",
    "for i in range(1, len(phases1)):\n",
    "    phases2[i] = phases2[i-1] + 2.*np.pi*f2[i-1,1]*(f2[i,0]-f2[i-1,0])\n",
    "    \n",
    "# calculate the amplitude mismatch caused by the different positions\n",
    "T = f1[-1,0]-f1[0,0] # observation time\n",
    "dt = f1[1,0]-f1[0,0] # time steps\n",
    "mm = (1. - np.trapz(np.cos(phases2-phases1), dx=dt)/T)\n",
    "```\n",
    "\n",
    "For the above cases, i.e. a signal at 1000 Hz, a roughly 10% mismatch is caused by an $1.5 \\mu$rad sky position difference. A ten times larger sky position difference is allowed for signals at 100 Hz."
   ]
  },
  {
   "cell_type": "code",
   "execution_count": null,
   "metadata": {
    "collapsed": true
   },
   "outputs": [],
   "source": []
  }
 ],
 "metadata": {
  "kernelspec": {
   "display_name": "Python 2",
   "language": "python",
   "name": "python2"
  },
  "language_info": {
   "codemirror_mode": {
    "name": "ipython",
    "version": 2
   },
   "file_extension": ".py",
   "mimetype": "text/x-python",
   "name": "python",
   "nbconvert_exporter": "python",
   "pygments_lexer": "ipython2",
   "version": "2.7.12"
  }
 },
 "nbformat": 4,
 "nbformat_minor": 2
}
