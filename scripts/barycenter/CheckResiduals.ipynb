{
 "cells": [
  {
   "cell_type": "code",
   "execution_count": 94,
   "metadata": {
    "collapsed": true
   },
   "outputs": [],
   "source": [
    "%matplotlib inline\n",
    "\n",
    "import os\n",
    "import struct\n",
    "\n",
    "import numpy as np\n",
    "from matplotlib import pyplot as pl\n",
    "from time import time\n",
    "\n",
    "import lal\n",
    "import lalpulsar"
   ]
  },
  {
   "cell_type": "code",
   "execution_count": 172,
   "metadata": {
    "collapsed": true
   },
   "outputs": [],
   "source": [
    "# read in reduced basis (txt file)\n",
    "#rb = np.loadtxt('Basis_real.txt')\n",
    "\n",
    "# get number of bases\n",
    "#Nb = rb.shape[0]\n",
    "#lenb = rb.shape[1]\n",
    "\n",
    "rundir = '/home/matthew/testing/redordbar'\n",
    "\n",
    "# get time stamps\n",
    "ts = np.loadtxt(os.path.join(rundir, 'quad_rule.txt'))\n",
    "t = ts[:,0]\n",
    "\n",
    "lenb = len(t)\n",
    "\n",
    "# get number of basis\n",
    "Nb = np.loadtxt(os.path.join(rundir, 'ApproxErrors.txt')).shape[0]\n",
    "\n",
    "# read in binary version of data\n",
    "bf = open(os.path.join(rundir,'Basis.bin'), 'rb')\n",
    "fc = bf.read()\n",
    "bf.close()\n",
    "\n",
    "rb = np.zeros((Nb,lenb))\n",
    "for i in range(Nb):\n",
    "    tmpvals = struct.unpack('d'*lenb*2, fc[(i*8*lenb*2):(i+1)*8*lenb*2])\n",
    "    rb[i] = tmpvals[::2] # just get real part"
   ]
  },
  {
   "cell_type": "code",
   "execution_count": 173,
   "metadata": {
    "collapsed": false
   },
   "outputs": [
    {
     "data": {
      "text/plain": [
       "[<matplotlib.lines.Line2D at 0x7fe53583e3d0>]"
      ]
     },
     "execution_count": 173,
     "metadata": {},
     "output_type": "execute_result"
    },
    {
     "data": {
      "image/png": "[encoded data removed]",
      "text/plain": [
       "<matplotlib.figure.Figure at 0x7fe535a2b0d0>"
      ]
     },
     "metadata": {},
     "output_type": "display_data"
    }
   ],
   "source": [
    "pl.plot(t, rb[0,:], 'b')\n",
    "pl.plot(t, rb[1,:], 'r')\n",
    "pl.plot(t, rb[2,:], 'g')\n",
    "pl.plot(t, rb[3,:], 'c')\n",
    "pl.plot(t, rb[4,:], 'm')"
   ]
  },
  {
   "cell_type": "code",
   "execution_count": 174,
   "metadata": {
    "collapsed": false
   },
   "outputs": [],
   "source": [
    "bpath = '/home/matthew/lscsoft/.virtualenvs/lalapps_knope_O2/share/lalpulsar'\n",
    "eephem = os.path.join(bpath, 'earth00-19-DE405.dat.gz')\n",
    "sephem = os.path.join(bpath, 'sun00-19-DE405.dat.gz')\n",
    "tephem = os.path.join(bpath, 'te405_2000-2019.dat.gz')"
   ]
  },
  {
   "cell_type": "code",
   "execution_count": 175,
   "metadata": {
    "collapsed": true
   },
   "outputs": [],
   "source": [
    "# import ephemeris files\n",
    "edat = lalpulsar.InitBarycenter(eephem, sephem)\n",
    "tdat = lalpulsar.InitTimeCorrections(tephem)"
   ]
  },
  {
   "cell_type": "code",
   "execution_count": 182,
   "metadata": {
    "collapsed": false
   },
   "outputs": [
    {
     "name": "stdout",
     "output_type": "stream",
     "text": [
      "Time to run full Barycenter calculation: 6.241970e-03 s\n",
      "Time to run reduced Barycenter calculation: 4.758782e-05 s\n",
      "Time ratio: 131.167\n"
     ]
    }
   ],
   "source": [
    "# get detector site info\n",
    "det = lalpulsar.GetSiteInfo('H1')\n",
    "\n",
    "# create BarycenterInput structure\n",
    "baryinput = lalpulsar.BarycenterInput()\n",
    "\n",
    "# setup input structure\n",
    "baryinput.site = det\n",
    "baryinput.site.location[0] = baryinput.site.location[0]/lal.C_SI # convert 3d position from metres to light seconds\n",
    "baryinput.site.location[1] = baryinput.site.location[1]/lal.C_SI\n",
    "baryinput.site.location[2] = baryinput.site.location[2]/lal.C_SI\n",
    "\n",
    "baryinput.dInv = 0.0\n",
    "\n",
    "# test across the sky\n",
    "nsky = 2000\n",
    "maxres = [] # maximum residuals\n",
    "\n",
    "deltaTs = np.zeros(lenb)\n",
    "\n",
    "# set EarthState structure\n",
    "earth = lalpulsar.EarthState()\n",
    "\n",
    "# set EmissionTime structure\n",
    "emit = lalpulsar.EmissionTime()\n",
    "\n",
    "validationpoints = os.path.join(rundir, 'validation/validation_points.txt')\n",
    "skypoints = np.loadtxt(validationpoints)\n",
    "ras = skypoints[:,0]\n",
    "decs = skypoints[:,1]\n",
    "nsky = len(ras)\n",
    "\n",
    "# set source sky positions\n",
    "#ras = 2.*np.pi*np.random.rand(nsky)\n",
    "#decs = -(np.pi/2.) + np.arccos(2.*np.random.rand(nsky) - 1.)\n",
    "\n",
    "deltaTsArray = []\n",
    "# get deltaTs calculated using over all times using LALBarycenter routines\n",
    "t0 = time()\n",
    "for i in range(nsky):\n",
    "    # set source sky position\n",
    "    baryinput.alpha = ras[i]\n",
    "    baryinput.delta = decs[i]\n",
    "\n",
    "    # set GPS time\n",
    "    for j, tv in enumerate(t):\n",
    "        tgps = lal.LIGOTimeGPS(int(np.floor(tv)), int(1e9*(tv-np.floor(tv))))\n",
    "\n",
    "        # perform Earth barycentring\n",
    "        lalpulsar.BarycenterEarthNew(earth, tgps, edat, tdat, lalpulsar.TIMECORRECTION_TCB)\n",
    "\n",
    "        # perform barycentring\n",
    "        lalpulsar.Barycenter(emit, baryinput, earth)\n",
    "\n",
    "        deltaTs[j] = emit.deltaT\n",
    "    \n",
    "    deltaTsArray.append(np.copy(deltaTs))\n",
    "t1 = time()\n",
    "\n",
    "timefull = t1-t0\n",
    "\n",
    "# get indexes for interpolation\n",
    "interpidx = np.arange(0, lenb, int(lenb/Nb))\n",
    "interptimes = t[interpidx]\n",
    "\n",
    "# get values of reduced basis at given points\n",
    "rbmat = rb[:,interpidx].T\n",
    "dtvals = np.zeros(Nb)\n",
    "\n",
    "deltaTsArrayNew = []\n",
    "# get deltats calculated using the reduced basis\n",
    "t0 = time()\n",
    "for i in range(nsky):\n",
    "    # set source sky position\n",
    "    baryinput.alpha = ras[i]\n",
    "    baryinput.delta = decs[i]\n",
    "    \n",
    "    # get values of generate deltaT at given points\n",
    "    for j, tv in enumerate(interptimes):\n",
    "        tgps = lal.LIGOTimeGPS(int(np.floor(tv)), int(1e9*(tv-np.floor(tv))))\n",
    "\n",
    "        # perform Earth barycentring\n",
    "        lalpulsar.BarycenterEarthNew(earth, tgps, edat, tdat, lalpulsar.TIMECORRECTION_TCB)\n",
    "\n",
    "        # perform barycentring\n",
    "        lalpulsar.Barycenter(emit, baryinput, earth)\n",
    "\n",
    "        dtvals[j] = emit.deltaT\n",
    "\n",
    "    # invert rbmat and solve for coefficients\n",
    "    #C = np.linalg.inv(rbmat)\n",
    "    #A = np.dot(dtvals, C)\n",
    "    A = np.linalg.solve(rbmat, dtvals) # faster and more numerically stable than the above\n",
    "\n",
    "    # create new version of deltaTs\n",
    "    deltaTsArrayNew.append(np.dot(A, rb))\n",
    "t1 = time()\n",
    "\n",
    "timereduced = t1-t0\n",
    "    \n",
    "for dt1, dt2 in zip(deltaTsArray, deltaTsArrayNew):\n",
    "    residual = dt1 - dt2\n",
    "    maxres.append(np.max(np.abs(residual)))\n",
    "    \n",
    "print(\"Time to run full Barycenter calculation: %e s\" % (timefull/nsky))\n",
    "print(\"Time to run reduced Barycenter calculation: %e s\" % (timereduced/nsky))\n",
    "print(\"Time ratio: %.3f\" % (timefull/timereduced))"
   ]
  },
  {
   "cell_type": "code",
   "execution_count": 183,
   "metadata": {
    "collapsed": false
   },
   "outputs": [
    {
     "data": {
      "text/plain": [
       "[<matplotlib.lines.Line2D at 0x7fe536416ad0>]"
      ]
     },
     "execution_count": 183,
     "metadata": {},
     "output_type": "execute_result"
    },
    {
     "data": {
      "image/png": "[encoded data removed]",
      "text/plain": [
       "<matplotlib.figure.Figure at 0x7fe53571d950>"
      ]
     },
     "metadata": {},
     "output_type": "display_data"
    }
   ],
   "source": [
    "pl.semilogy(maxres)"
   ]
  },
  {
   "cell_type": "code",
   "execution_count": 184,
   "metadata": {
    "collapsed": false
   },
   "outputs": [
    {
     "name": "stdout",
     "output_type": "stream",
     "text": [
      "Time to run (second) reduced Barycenter calculation: 3.060999e-05 s\n"
     ]
    }
   ],
   "source": [
    "# compare also with empirical interpolant\n",
    "indices = []\n",
    "ts_nodes = []\n",
    "\n",
    "e = np.array(rb)\n",
    "V = np.zeros((len(e), len(e)))\n",
    "\n",
    "indices.append(int(np.argmax(np.abs(e[0]))))\n",
    "ts_nodes.append(t[indices[0]])\n",
    "\n",
    "#build empirical interpolant\n",
    "for i in range(1, len(e)):\n",
    "    for j in range(len(indices)):\n",
    "        for k in range(len(indices)):\n",
    "            V[j][k] = e[j][indices[k]]\n",
    "\n",
    "    B = np.linalg.solve(V[0:len(indices), 0:len(indices)], e[0:len(indices)])\n",
    "    interpolant = np.inner(e[i,indices].T, B.T)\n",
    "    res = interpolant - e[i]\n",
    "\n",
    "    index = int(np.argmax(np.abs(res)))\n",
    "    indices.append(index)\n",
    "    ts_nodes.append(t[index])\n",
    "        \n",
    "# make B matrix with all the indices\n",
    "for j in range(len(indices)):\n",
    "    for k in range(len(indices)):\n",
    "        V[j][k] = e[j][indices[k]]\n",
    "\n",
    "B = np.linalg.solve(V[0:len(indices), 0:len(indices)], e[0:len(indices)])\n",
    "B = B.T\n",
    "\n",
    "deltaTsArrayNew2 = []\n",
    "# get deltats calculated using the reduced basis\n",
    "t0 = time()\n",
    "for i in range(nsky):\n",
    "    # set source sky position\n",
    "    baryinput.alpha = ras[i]\n",
    "    baryinput.delta = decs[i]\n",
    "    \n",
    "    # get values of generate deltaT at given points\n",
    "    for j, tv in enumerate(ts_nodes):\n",
    "        tgps = lal.LIGOTimeGPS(int(np.floor(tv)), int(1e9*(tv-np.floor(tv))))\n",
    "\n",
    "        # perform Earth barycentring\n",
    "        lalpulsar.BarycenterEarthNew(earth, tgps, edat, tdat, lalpulsar.TIMECORRECTION_TCB)\n",
    "\n",
    "        # perform barycentring\n",
    "        lalpulsar.Barycenter(emit, baryinput, earth)\n",
    "\n",
    "        dtvals[j] = emit.deltaT\n",
    "\n",
    "    # create new version of deltaTs using empirical interpolant matrix\n",
    "    deltaTsArrayNew2.append(np.inner(B, dtvals))\n",
    "t1 = time()\n",
    "\n",
    "timereduced2 = t1-t0\n",
    "\n",
    "print(\"Time to run (second) reduced Barycenter calculation: %e s\" % (timereduced2/nsky))"
   ]
  },
  {
   "cell_type": "code",
   "execution_count": 185,
   "metadata": {
    "collapsed": false
   },
   "outputs": [
    {
     "data": {
      "text/plain": [
       "[<matplotlib.lines.Line2D at 0x7fe535241990>]"
      ]
     },
     "execution_count": 185,
     "metadata": {},
     "output_type": "execute_result"
    },
    {
     "data": {
      "image/png": "[encoded data removed]",
      "text/plain": [
       "<matplotlib.figure.Figure at 0x7fe535241c90>"
      ]
     },
     "metadata": {},
     "output_type": "display_data"
    }
   ],
   "source": [
    "maxres2 = []\n",
    "for dt1, dt2 in zip(deltaTsArray, deltaTsArrayNew2):\n",
    "    residual = dt1 - dt2\n",
    "    maxres2.append(np.max(np.abs(residual)))\n",
    "\n",
    "pl.semilogy(maxres, 'r')\n",
    "pl.semilogy(maxres2, 'b')"
   ]
  },
  {
   "cell_type": "code",
   "execution_count": 188,
   "metadata": {
    "collapsed": false
   },
   "outputs": [
    {
     "data": {
      "text/plain": [
       "1.8985701899509877e-11"
      ]
     },
     "execution_count": 188,
     "metadata": {},
     "output_type": "execute_result"
    }
   ],
   "source": [
    "np.sqrt(np.sum(maxres2[2]**2))"
   ]
  },
  {
   "cell_type": "code",
   "execution_count": 189,
   "metadata": {
    "collapsed": false
   },
   "outputs": [
    {
     "data": {
      "text/plain": [
       "array([[   2.51099094,  -31.88166617, -127.51167682, -121.13833104,\n",
       "         -15.07368744],\n",
       "       [  19.59504072,  -25.47630153,   -4.86421345,   86.3784239 ,\n",
       "         -97.8970095 ],\n",
       "       [ -15.92098592,  -28.65924898,  127.17543593,  -30.93035771,\n",
       "         -51.70484444],\n",
       "       [   2.3058183 ,   45.38709138,   43.89630833,   -6.14942637,\n",
       "         -85.43750178],\n",
       "       [ -71.8660389 ,   26.53507627,   50.95018305,   78.05534413,\n",
       "         -83.67454377]])"
      ]
     },
     "execution_count": 189,
     "metadata": {},
     "output_type": "execute_result"
    }
   ],
   "source": [
    "np.linalg.inv(V).T"
   ]
  },
  {
   "cell_type": "code",
   "execution_count": null,
   "metadata": {
    "collapsed": true
   },
   "outputs": [],
   "source": []
  }
 ],
 "metadata": {
  "kernelspec": {
   "display_name": "Python 2",
   "language": "python",
   "name": "python2"
  },
  "language_info": {
   "codemirror_mode": {
    "name": "ipython",
    "version": 2
   },
   "file_extension": ".py",
   "mimetype": "text/x-python",
   "name": "python",
   "nbconvert_exporter": "python",
   "pygments_lexer": "ipython2",
   "version": "2.7.12"
  }
 },
 "nbformat": 4,
 "nbformat_minor": 2
}
