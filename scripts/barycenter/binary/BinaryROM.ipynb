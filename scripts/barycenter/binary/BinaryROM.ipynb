{
 "cells": [
  {
   "cell_type": "code",
   "execution_count": 1,
   "metadata": {
    "collapsed": true
   },
   "outputs": [],
   "source": [
    "%matplotlib inline\n",
    "\n",
    "import os\n",
    "import sys\n",
    "import struct\n",
    "from time import time\n",
    "\n",
    "sys.path.append(\"/home/matthew/lscsoft/.virtualenvs/lalapps_knope_O2/lib/python2.7/site-packages\")\n",
    "\n",
    "import numpy as np\n",
    "from matplotlib import pyplot as pl\n",
    "\n",
    "import lalpulsar"
   ]
  },
  {
   "cell_type": "code",
   "execution_count": 22,
   "metadata": {},
   "outputs": [],
   "source": [
    "%load_ext Cython"
   ]
  },
  {
   "cell_type": "code",
   "execution_count": 72,
   "metadata": {},
   "outputs": [],
   "source": [
    "%%cython --compile-args=-O2\n",
    "\n",
    "import numpy as np\n",
    "cimport numpy as np\n",
    "\n",
    "from libc.math cimport sqrt, cos, sin\n",
    "\n",
    "from lalpulsar import ComputeEccentricAnomaly\n",
    "\n",
    "# function to return binary BT model\n",
    "def binary_model(w0, T0, Pb, asini, ecc, gamma, ts):\n",
    "    # calculate the binary time delay for a Keplerian orbit (including gamma parameter\n",
    "    # that accounts for relativistic Einstein delay effects)\n",
    "    \n",
    "    orbits = (ts - T0)/Pb\n",
    "    \n",
    "    phase = 2.*np.pi*np.fmod(orbits, 1.)\n",
    "    \n",
    "    #u = eccentric_anomaly(phase, ecc)\n",
    "    l = len(phase)\n",
    "    u = np.zeros(l)\n",
    "    for i in xrange(l):\n",
    "        u[i] = ComputeEccentricAnomaly(phase[i], ecc)\n",
    "\n",
    "    su = np.sin(u)\n",
    "    cu = np.cos(u)\n",
    "    \n",
    "    sw = np.sin(w0)\n",
    "    cw = np.cos(w0)\n",
    "    \n",
    "    x = asini\n",
    "    e = ecc\n",
    "    \n",
    "    one_e2 = sqrt(1. - e**2)\n",
    "    \n",
    "    deltaTW1 = x*(sw*(cu - e) + (cw*one_e2 + (gamma/x))*su)\n",
    "    deltaTW2 = (2.*np.pi*x/Pb)*(cw*one_e2*cu - sw*su)/(1.0 - e*cu)\n",
    "    \n",
    "    dt = -(deltaTW1*(1. - deltaTW2))\n",
    "    \n",
    "    return dt, deltaTW1, deltaTW2"
   ]
  },
  {
   "cell_type": "code",
   "execution_count": 202,
   "metadata": {},
   "outputs": [],
   "source": [
    "# show test of residuals\n",
    "rundir1 = '/home/matthew/repositories/greedycpp/scripts/barycenter/binary/term1'\n",
    "\n",
    "# get time stamps\n",
    "ts = np.loadtxt(os.path.join(rundir1, 'quad_rule.txt'))\n",
    "t = ts[:,0]\n",
    "\n",
    "lenb = len(t)\n",
    "\n",
    "# get number of basis\n",
    "Nb1 = np.loadtxt(os.path.join(rundir1, 'ApproxErrors.txt')).shape[0]\n",
    "\n",
    "# read in binary version of reduced basis data\n",
    "bf = open(os.path.join(rundir1,'Basis.bin'), 'rb')\n",
    "fc = bf.read()\n",
    "bf.close()\n",
    "\n",
    "rb1 = np.zeros((Nb1,lenb))\n",
    "for i in range(Nb1):\n",
    "    tmpvals = struct.unpack('d'*lenb*2, fc[(i*8*lenb*2):(i+1)*8*lenb*2])\n",
    "    rb1[i] = tmpvals[::2] # just get real part\n",
    "    \n",
    "# read in binary version of empirical interpolation matrix\n",
    "invV1 = np.zeros((Nb1, Nb1))\n",
    "bf = open(os.path.join(rundir1,'invV.bin'), 'rb')\n",
    "fc = bf.read()\n",
    "bf.close()\n",
    "for i in range(Nb1):\n",
    "    tmpvals = struct.unpack('d'*Nb1*2, fc[(i*8*Nb1*2):(i+1)*8*Nb1*2])\n",
    "    invV1[i] = tmpvals[::2] # just get real part\n",
    "    \n",
    "# show test of residuals\n",
    "rundir2 = '/home/matthew/repositories/greedycpp/scripts/barycenter/binary/term2'\n",
    "\n",
    "# get number of basis\n",
    "Nb2 = np.loadtxt(os.path.join(rundir2, 'ApproxErrors.txt')).shape[0]\n",
    "\n",
    "# read in binary version of reduced basis data\n",
    "bf = open(os.path.join(rundir2,'Basis.bin'), 'rb')\n",
    "fc = bf.read()\n",
    "bf.close()\n",
    "\n",
    "rb2 = np.zeros((Nb2,lenb))\n",
    "for i in range(Nb2):\n",
    "    tmpvals = struct.unpack('d'*lenb*2, fc[(i*8*lenb*2):(i+1)*8*lenb*2])\n",
    "    rb2[i] = tmpvals[::2] # just get real part\n",
    "    \n",
    "# read in binary version of empirical interpolation matrix\n",
    "invV2 = np.zeros((Nb2, Nb2))\n",
    "bf = open(os.path.join(rundir2,'invV.bin'), 'rb')\n",
    "fc = bf.read()\n",
    "bf.close()\n",
    "for i in range(Nb2):\n",
    "    tmpvals = struct.unpack('d'*Nb2*2, fc[(i*8*Nb2*2):(i+1)*8*Nb2*2])\n",
    "    invV2[i] = tmpvals[::2] # just get real part"
   ]
  },
  {
   "cell_type": "code",
   "execution_count": 203,
   "metadata": {},
   "outputs": [],
   "source": [
    "# get random phases, start times and eccentricities and check residuals\n",
    "nbins = 1000\n",
    "\n",
    "# fixed parameters\n",
    "Pb = 3600.\n",
    "asini = 1.\n",
    "\n",
    "eccmax = 0.1 # maximum eccentricity of the basis set\n",
    "ecc = eccmax*np.random.rand(nbins)\n",
    "w0 = 2.*np.pi*np.random.rand(nbins)\n",
    "T0 = np.random.rand(nbins)\n",
    "\n",
    "deltaTs = np.zeros(lenb)\n",
    "deltaTsArray = []\n",
    "\n",
    "par = lalpulsar.PulsarParameters()\n",
    "\n",
    "binarytype = \"BT\"\n",
    "lalpulsar.PulsarAddREAL8Param( par, \"PB\", Pb )\n",
    "lalpulsar.PulsarAddREAL8Param( par, \"A1\", asini )\n",
    "lalpulsar.PulsarAddStringParam( par, \"BINARY\", binarytype )\n",
    "\n",
    "# get deltaTs calculated over all times using LALBarycenter routines\n",
    "for i in range(nbins):\n",
    "    bininput = lalpulsar.BinaryPulsarInput()\n",
    "    binoutput = lalpulsar.BinaryPulsarOutput()\n",
    "    \n",
    "    lalpulsar.PulsarAddREAL8Param( par, \"ECC\", ecc[i] )\n",
    "    lalpulsar.PulsarAddREAL8Param( par, \"OM\", w0[i] )\n",
    "    lalpulsar.PulsarAddREAL8Param( par, \"T0\", t[0]+T0[i]*Pb )\n",
    "\n",
    "    # set GPS time\n",
    "    for j, tv in enumerate(t):\n",
    "        bininput.tb = tv\n",
    "        \n",
    "        # perform binary barycentring\n",
    "        lalpulsar.BinaryPulsarDeltaTNew( binoutput, bininput, par )\n",
    "        deltaTs[j] = binoutput.deltaT\n",
    "    \n",
    "    deltaTsArray.append(np.copy(deltaTs))"
   ]
  },
  {
   "cell_type": "code",
   "execution_count": 204,
   "metadata": {},
   "outputs": [
    {
     "name": "stdout",
     "output_type": "stream",
     "text": [
      "Total time for evalution = 0.001735926\n",
      "time for one evaluation = 0.000000482\n"
     ]
    }
   ],
   "source": [
    "# perform some timing evalution\n",
    "ts = np.zeros(len(t))\n",
    "tsTW1 = np.zeros(len(t))\n",
    "tsTW2 = np.zeros(len(t))\n",
    "\n",
    "ta = time()\n",
    "dt, deltaTW1, deltaTW2 = binary_model(w0[-1], t[0]+T0[-1]*Pb, Pb, asini, ecc[-1], t)\n",
    "tb = time()\n",
    "\n",
    "print(\"Total time for evalution = %.9f\" % (tb-ta))\n",
    "print(\"time for one evaluation = %.9f\" % ((tb-ta)/len(t)))"
   ]
  },
  {
   "cell_type": "code",
   "execution_count": 205,
   "metadata": {},
   "outputs": [
    {
     "name": "stdout",
     "output_type": "stream",
     "text": [
      "10000 loops, best of 3: 29.5 µs per loop\n",
      "The slowest run took 365.43 times longer than the fastest. This could mean that an intermediate result is being cached.\n",
      "10000 loops, best of 3: 17.1 µs per loop\n",
      "10000 loops, best of 3: 20.9 µs per loop\n",
      "The slowest run took 8.72 times longer than the fastest. This could mean that an intermediate result is being cached.\n",
      "100000 loops, best of 3: 14.7 µs per loop\n",
      "10000000 loops, best of 3: 53.1 ns per loop\n"
     ]
    }
   ],
   "source": [
    "# get deltaTs calculated using interpolant\n",
    "deltaTsArrayTerm1 = []\n",
    "dtvals = np.zeros(Nb1)\n",
    "\n",
    "ts_nodes1 = np.loadtxt(os.path.join(rundir1, 'EIM_nodes.txt'))\n",
    "\n",
    "B1 = np.einsum('ik,ij->kj', invV1, rb1)\n",
    "\n",
    "# get deltats calculated using the reduced basis\n",
    "for i in range(nbins):\n",
    "    # get values of deltaT at given points\n",
    "    _, dtvals, _ = binary_model(w0[i], t[0]+T0[i]*Pb, Pb, asini, ecc[i], ts_nodes1)\n",
    "        \n",
    "    # create new version of deltaTs using empirical interpolant matrix\n",
    "    deltaTsArrayTerm1.append(np.einsum('i,ij->j', dtvals, B1))\n",
    "\n",
    "# time linear algebra\n",
    "%timeit np.einsum('i,ij->j', dtvals, B1)\n",
    "%timeit np.dot(dtvals, B1)\n",
    "\n",
    "# get deltaTs calculated using interpolant\n",
    "deltaTsArrayTerm2 = []\n",
    "dtvals = np.zeros(Nb2)\n",
    "\n",
    "ts_nodes2 = np.loadtxt(os.path.join(rundir2, 'EIM_nodes.txt'))\n",
    "\n",
    "B2 = np.einsum('ik,ij->kj', invV2, rb2)\n",
    "\n",
    "# get deltats calculated using the reduced basis\n",
    "for i in range(nbins):    \n",
    "    # get values of deltaT at given points\n",
    "    _, _, dtvals = binary_model(w0[i], t[0]+T0[i]*Pb, Pb, asini, ecc[i], ts_nodes2)\n",
    "\n",
    "    # create new version of deltaTs using empirical interpolant matrix\n",
    "    deltaTsArrayTerm2.append(np.einsum('i,ij->j', dtvals, B2))\n",
    "\n",
    "# time linear algebra\n",
    "%timeit np.einsum('i,ij->j', dtvals, B2)\n",
    "%timeit np.dot(dtvals, B2)\n",
    "\n",
    "deltaTsArrayFull = []\n",
    "for i in range(nbins):\n",
    "    deltaTsArrayFull.append(-deltaTsArrayTerm1[i]*(1.-deltaTsArrayTerm2[i]))\n",
    "    \n",
    "%timeit lambda x:-deltaTsArrayTerm1[0]*(1.-deltaTsArrayTerm2[0])"
   ]
  },
  {
   "cell_type": "code",
   "execution_count": 206,
   "metadata": {},
   "outputs": [
    {
     "data": {
      "image/png": "[encoded data removed]",
      "text/plain": [
       "<matplotlib.figure.Figure at 0x7f0049eecfd0>"
      ]
     },
     "metadata": {},
     "output_type": "display_data"
    }
   ],
   "source": [
    "fig, ax1 = pl.subplots(figsize=(10,7))\n",
    "\n",
    "ax1.plot(t-t[0], (deltaTsArrayFull[0]-deltaTsArray[0])*1e9)\n",
    "\n",
    "ax1.set_ylabel('Time Residuals (ns)')\n",
    "ax1.set_xlabel('Time (sec)')\n",
    "ax1.set_xlim([0., (t[-1]-t[0])])\n",
    "\n",
    "fig.tight_layout()"
   ]
  },
  {
   "cell_type": "code",
   "execution_count": 207,
   "metadata": {},
   "outputs": [
    {
     "data": {
      "text/plain": [
       "(array([ 235.,  309.,  177.,  101.,   62.,   45.,   29.,   13.,   10.,\n",
       "           6.,    3.,    1.,    5.,    2.,    0.,    0.,    1.,    0.,\n",
       "           0.,    1.]),\n",
       " array([  0.61175853,   1.95968478,   3.30761103,   4.65553728,\n",
       "          6.00346353,   7.35138977,   8.69931602,  10.04724227,\n",
       "         11.39516852,  12.74309477,  14.09102102,  15.43894727,\n",
       "         16.78687351,  18.13479976,  19.48272601,  20.83065226,\n",
       "         22.17857851,  23.52650476,  24.874431  ,  26.22235725,  27.5702835 ]),\n",
       " <a list of 1 Patch objects>)"
      ]
     },
     "execution_count": 207,
     "metadata": {},
     "output_type": "execute_result"
    },
    {
     "data": {
      "image/png": "[encoded data removed]",
      "text/plain": [
       "<matplotlib.figure.Figure at 0x7f0049a4b510>"
      ]
     },
     "metadata": {},
     "output_type": "display_data"
    }
   ],
   "source": [
    "maxdt = []\n",
    "for i in range(nbins):\n",
    "    maxdt.append(np.max(np.fabs((deltaTsArrayFull[i]-deltaTsArray[i])*1e9)))\n",
    "\n",
    "pl.hist(maxdt, bins=20, histtype='stepfilled', alpha=0.75)"
   ]
  },
  {
   "cell_type": "code",
   "execution_count": 208,
   "metadata": {
    "collapsed": true
   },
   "outputs": [],
   "source": [
    "# compare times\n",
    "full = 0.001736*1e6 # time in microseconds\n",
    "\n",
    "rom = 0.000000482*1e6*(Nb1 + Nb2) # time for computing time delay at nodes\n",
    "rom += 29.5  # matrix multiplication (for first term)\n",
    "rom += 17.1  # dot product for first term\n",
    "rom += 20.9  # matrix multiplication (for second term)\n",
    "rom += 14.7  # dot product for second term\n",
    "rom += 53e-3 # combining terms for full time delay"
   ]
  },
  {
   "cell_type": "code",
   "execution_count": 209,
   "metadata": {},
   "outputs": [
    {
     "name": "stdout",
     "output_type": "stream",
     "text": [
      "1736.0 97.677 17.7728636219\n"
     ]
    }
   ],
   "source": [
    "print full, rom, (full/rom)"
   ]
  },
  {
   "cell_type": "markdown",
   "metadata": {},
   "source": [
    "On the above examples see how well linear interpolation half-way between each of time stamps from delays calculated using the ROM compares to the full calculation at those new time positions."
   ]
  },
  {
   "cell_type": "code",
   "execution_count": 210,
   "metadata": {},
   "outputs": [
    {
     "data": {
      "text/plain": [
       "(array([ 235.,  309.,  177.,  101.,   62.,   45.,   29.,   13.,   10.,\n",
       "           6.,    3.,    1.,    5.,    2.,    0.,    0.,    1.,    0.,\n",
       "           0.,    1.]),\n",
       " array([  0.61175853,   1.95968478,   3.30761103,   4.65553728,\n",
       "          6.00346353,   7.35138977,   8.69931602,  10.04724227,\n",
       "         11.39516852,  12.74309477,  14.09102102,  15.43894727,\n",
       "         16.78687351,  18.13479976,  19.48272601,  20.83065226,\n",
       "         22.17857851,  23.52650476,  24.874431  ,  26.22235725,  27.5702835 ]),\n",
       " <a list of 1 Patch objects>)"
      ]
     },
     "execution_count": 210,
     "metadata": {},
     "output_type": "execute_result"
    },
    {
     "data": {
      "image/png": "[encoded data removed]",
      "text/plain": [
       "<matplotlib.figure.Figure at 0x7f00498a1290>"
      ]
     },
     "metadata": {},
     "output_type": "display_data"
    }
   ],
   "source": [
    "from scipy.interpolate import splrep, splev\n",
    "\n",
    "newts = t[0:-1] + np.diff(t)/2.\n",
    "\n",
    "maxdtsint = []\n",
    "maxdtsintspl = []\n",
    "\n",
    "for i in range(nbins):\n",
    "    dtinterplinear = np.interp(newts, t, deltaTsArrayFull[i])\n",
    "    tspl, cspl, kspl = splrep(t, deltaTsArrayFull[i])\n",
    "    dtinterpspline = splev(newts, (tspl, cspl,  kspl))\n",
    "    \n",
    "    dtactual, _, _ = binary_model(w0[i], t[0]+T0[i]*Pb, Pb, asini, ecc[i], newts)\n",
    "    \n",
    "    maxdtsint.append(np.max(np.fabs((dtinterplinear-dtactual)*1e9)))\n",
    "    maxdtsintspl.append(np.max(np.fabs((dtinterpspline-dtactual)*1e9)))\n",
    "\n",
    "fig, ax = pl.subplots(1)\n",
    "#ax.hist(maxdtsint, bins=20, histtype='stepfilled', color='r', alpha=0.75)\n",
    "ax.hist(maxdtsintspl, bins=20, histtype='stepfilled', color='b', alpha=0.75)\n",
    "ax.hist(maxdt, bins=20, histtype='step', color='r', alpha=0.75)"
   ]
  },
  {
   "cell_type": "markdown",
   "metadata": {},
   "source": [
    "Now run the code on a variety of simulated binaries, but allow the period and projected semi-major axis to vary."
   ]
  },
  {
   "cell_type": "code",
   "execution_count": 219,
   "metadata": {},
   "outputs": [],
   "source": [
    "nbins = 1000\n",
    "\n",
    "Pbmin = 60. # 6 second minimum\n",
    "Pbmax = Pb*2.\n",
    "\n",
    "#Pbs = Pb*10.*np.random.rand(nbins)\n",
    "Pbs = np.linspace(Pbmin, Pbmax, nbins)\n",
    "asinis = asini*10.*np.random.rand(nbins)\n",
    "\n",
    "eccmax = 0.1 # maximum eccentricity of the basis set\n",
    "ecc = eccmax*np.random.rand(nbins)\n",
    "w0 = 2.*np.pi*np.random.rand(nbins)\n",
    "T0 = np.random.rand(nbins)\n",
    "\n",
    "deltaTsArrayTrue = []\n",
    "\n",
    "# get deltaTs calculated using interpolant\n",
    "deltaTsArrayTerm1New = []\n",
    "dtvals = np.zeros(Nb1)\n",
    "\n",
    "ts_nodes1 = np.loadtxt(os.path.join(rundir1, 'EIM_nodes.txt'))\n",
    "\n",
    "# get deltats calculated using the reduced basis\n",
    "for i in range(nbins):\n",
    "    # get values of deltaT at given points\n",
    "    _, dtvals, _ = binary_model(w0[i], t[0]+T0[i]*Pb, Pb, asini, ecc[i], ts_nodes1)\n",
    "        \n",
    "    # create new version of deltaTs using empirical interpolant matrix\n",
    "    deltaTsArrayTerm1New.append(np.einsum('i,ij->j', dtvals, B1))\n",
    "    \n",
    "    # get actual delays\n",
    "    dtvals, _, _ = binary_model(w0[i], t[0]+T0[i]*Pbs[i], Pbs[i], asinis[i], ecc[i], t)\n",
    "    deltaTsArrayTrue.append(dtvals)\n",
    "\n",
    "# get deltaTs calculated using interpolant\n",
    "deltaTsArrayTerm2New = []\n",
    "dtvals = np.zeros(Nb2)\n",
    "\n",
    "# get deltats calculated using the reduced basis\n",
    "for i in range(nbins):    \n",
    "    # get values of deltaT at given points\n",
    "    _, _, dtvals = binary_model(w0[i], t[0]+T0[i]*Pb, Pb, asini, ecc[i], ts_nodes2)\n",
    "\n",
    "    # create new version of deltaTs using empirical interpolant matrix\n",
    "    deltaTsArrayTerm2New.append(np.einsum('i,ij->j', dtvals, B2))\n",
    "\n",
    "deltaTsArrayFullNew = []\n",
    "differences = []\n",
    "for i in range(nbins):\n",
    "    t1factor = (asinis[i]/asini)\n",
    "    t2factor = (Pb/Pbs[i])*(asinis[i]/asini)\n",
    "    deltaTsArrayFullNew.append(-deltaTsArrayTerm1New[i]*t1factor*(1.-t2factor*deltaTsArrayTerm2New[i]))\n",
    "    tspl, cspl, kspl = splrep((t-t[0])*Pbs[i]/Pb, deltaTsArrayFullNew[i])\n",
    "    dtinterpspline2 = splev(np.mod(t-t[0], Pbs[i]), (tspl, cspl,  kspl))\n",
    "    differences.append(np.max(np.fabs((dtinterpspline2-deltaTsArrayTrue[i])*1e9)))"
   ]
  },
  {
   "cell_type": "code",
   "execution_count": 220,
   "metadata": {},
   "outputs": [
    {
     "data": {
      "text/plain": [
       "[<matplotlib.lines.Line2D at 0x7f00495bb650>]"
      ]
     },
     "execution_count": 220,
     "metadata": {},
     "output_type": "execute_result"
    },
    {
     "data": {
      "image/png": "[encoded data removed]",
      "text/plain": [
       "<matplotlib.figure.Figure at 0x7f00495bb590>"
      ]
     },
     "metadata": {},
     "output_type": "display_data"
    }
   ],
   "source": [
    "pl.plot(deltaTsArrayFullNew[-1], 'r')\n",
    "pl.plot(deltaTsArrayTrue[-1], 'b')\n",
    "pl.plot(dtinterpspline2-deltaTsArrayTrue[-1], 'g-.')"
   ]
  },
  {
   "cell_type": "code",
   "execution_count": 221,
   "metadata": {},
   "outputs": [
    {
     "data": {
      "text/plain": [
       "(array([ 952.,   28.,    9.,    3.,    1.,    3.,    1.,    1.,    0.,\n",
       "           0.,    0.,    0.,    1.,    0.,    0.,    0.,    0.,    0.,\n",
       "           0.,    1.]),\n",
       " array([  9.34648192e-03,   1.03650800e+03,   2.07300666e+03,\n",
       "          3.10950531e+03,   4.14600397e+03,   5.18250263e+03,\n",
       "          6.21900128e+03,   7.25549994e+03,   8.29199859e+03,\n",
       "          9.32849725e+03,   1.03649959e+04,   1.14014946e+04,\n",
       "          1.24379932e+04,   1.34744919e+04,   1.45109905e+04,\n",
       "          1.55474892e+04,   1.65839878e+04,   1.76204865e+04,\n",
       "          1.86569852e+04,   1.96934838e+04,   2.07299825e+04]),\n",
       " <a list of 1 Patch objects>)"
      ]
     },
     "execution_count": 221,
     "metadata": {},
     "output_type": "execute_result"
    },
    {
     "data": {
      "image/png": "[encoded data removed]",
      "text/plain": [
       "<matplotlib.figure.Figure at 0x7f00494878d0>"
      ]
     },
     "metadata": {},
     "output_type": "display_data"
    }
   ],
   "source": [
    "pl.hist(differences, bins=20, histtype='stepfilled', alpha=0.75)"
   ]
  },
  {
   "cell_type": "code",
   "execution_count": 224,
   "metadata": {},
   "outputs": [
    {
     "data": {
      "text/plain": [
       "([20729.982463940643,\n",
       "  304.12978113680822,\n",
       "  356.42719131701028,\n",
       "  1.3930424869190716,\n",
       "  12751.378713815597,\n",
       "  3195.6587038806106,\n",
       "  123.85578962437194,\n",
       "  1.2209787070283085,\n",
       "  833.54892499443167,\n",
       "  4.4238566143661728],\n",
       " array([  60.        ,   67.14714715,   74.29429429,   81.44144144,\n",
       "          88.58858859,   95.73573574,  102.88288288,  110.03003003,\n",
       "         117.17717718,  124.32432432]))"
      ]
     },
     "execution_count": 224,
     "metadata": {},
     "output_type": "execute_result"
    }
   ],
   "source": [
    "differences[0:10], Pbs[0:10]"
   ]
  },
  {
   "cell_type": "code",
   "execution_count": 215,
   "metadata": {},
   "outputs": [
    {
     "data": {
      "text/plain": [
       "[<matplotlib.lines.Line2D at 0x7f00495e90d0>]"
      ]
     },
     "execution_count": 215,
     "metadata": {},
     "output_type": "execute_result"
    },
    {
     "data": {
      "image/png": "[encoded data removed]",
      "text/plain": [
       "<matplotlib.figure.Figure at 0x7f00495e91d0>"
      ]
     },
     "metadata": {},
     "output_type": "display_data"
    }
   ],
   "source": [
    "pl.plot(deltaTsArrayFullNew[430], 'r')\n",
    "pl.plot(deltaTsArrayTrue[430], 'b')"
   ]
  },
  {
   "cell_type": "code",
   "execution_count": 217,
   "metadata": {},
   "outputs": [
    {
     "data": {
      "text/plain": [
       "42.003170546984322"
      ]
     },
     "execution_count": 217,
     "metadata": {},
     "output_type": "execute_result"
    }
   ],
   "source": [
    "Pbs[430]"
   ]
  },
  {
   "cell_type": "code",
   "execution_count": 218,
   "metadata": {},
   "outputs": [
    {
     "data": {
      "text/plain": [
       "array([  42.00317055,  102.46770284,  115.50954183,  122.81024834,\n",
       "        179.87428067,  196.80852579,  260.2217469 ,  326.33691864,\n",
       "        361.19908983,  368.17463819])"
      ]
     },
     "execution_count": 218,
     "metadata": {},
     "output_type": "execute_result"
    }
   ],
   "source": [
    "np.sort(Pbs)[0:10]"
   ]
  },
  {
   "cell_type": "code",
   "execution_count": 237,
   "metadata": {
    "collapsed": true
   },
   "outputs": [],
   "source": [
    "def mf(a, Pb, m1, m2):\n",
    "    G = 6.67e-11\n",
    "    c = 3e8\n",
    "    M = m1 + m2\n",
    "    Msun = 1.989e30\n",
    "    return (a[0]**3/Pb**2) - (G*M*Msun/(4.*np.pi**2))*(1. + ((m1*m2/M**2)-9.)*(G*M*Msun/(2.*a[0]*c**2)))**2\n",
    "\n",
    "from scipy.optimize import root"
   ]
  },
  {
   "cell_type": "code",
   "execution_count": 245,
   "metadata": {
    "collapsed": true
   },
   "outputs": [],
   "source": [
    "sol = root(mf, [100.], args=(600., 1.4, 1.4))"
   ]
  },
  {
   "cell_type": "code",
   "execution_count": 246,
   "metadata": {},
   "outputs": [
    {
     "data": {
      "text/plain": [
       "    fjac: array([[-1.]])\n",
       "     fun: -3293.5326080210507\n",
       " message: 'The solution converged.'\n",
       "    nfev: 52\n",
       "     qtf: array([ 144965.65778057])\n",
       "       r: array([ -1.40912055e+09])\n",
       "  status: 1\n",
       " success: True\n",
       "       x: array([ 18057.33369068])"
      ]
     },
     "execution_count": 246,
     "metadata": {},
     "output_type": "execute_result"
    }
   ],
   "source": [
    "sol"
   ]
  },
  {
   "cell_type": "code",
   "execution_count": 273,
   "metadata": {},
   "outputs": [
    {
     "data": {
      "text/plain": [
       "    fjac: array([[-1.]])\n",
       "     fun: 0.0\n",
       " message: 'The solution converged.'\n",
       "    nfev: 12\n",
       "     qtf: array([ -2.46829056e+09])\n",
       "       r: array([ -8.71448023e+11])\n",
       "  status: 1\n",
       " success: True\n",
       "       x: array([ 32343879.97209608])"
      ]
     },
     "execution_count": 273,
     "metadata": {},
     "output_type": "execute_result"
    }
   ],
   "source": [
    "sol = root(mf, [1e8], args=(60., 1.4, 1.4))\n",
    "sol"
   ]
  },
  {
   "cell_type": "code",
   "execution_count": 263,
   "metadata": {},
   "outputs": [
    {
     "data": {
      "image/png": "[encoded data removed]",
      "text/plain": [
       "<matplotlib.figure.Figure at 0x7f00498f2490>"
      ]
     },
     "metadata": {},
     "output_type": "display_data"
    }
   ],
   "source": [
    "fig, ax = pl.subplots(1)\n",
    "\n",
    "asvals = np.logspace(0., 9., 1000000)\n",
    "ax.semilogx(asvals, [mf([a], 60., 1.4, 1.4) for a in asvals])\n",
    "ax.set_yscale('symlog')\n",
    "#pl.ylim([-100, 100])"
   ]
  },
  {
   "cell_type": "code",
   "execution_count": 252,
   "metadata": {},
   "outputs": [
    {
     "data": {
      "text/plain": [
       "2.7683687830083317e+21"
      ]
     },
     "execution_count": 252,
     "metadata": {},
     "output_type": "execute_result"
    }
   ],
   "source": [
    "np.max([mf([a], 600., 1.4, 1.4) for a in asvals])"
   ]
  },
  {
   "cell_type": "code",
   "execution_count": 265,
   "metadata": {
    "collapsed": true
   },
   "outputs": [],
   "source": [
    "def gamma_dt(a, Pb, ecc, m1, m2):\n",
    "    c = 3e8\n",
    "    G = 6.67e-11\n",
    "    Msun = 1.989e30\n",
    "    M = (m1 + m2)*Msun\n",
    "    return ecc*Pb*G*(m2*Msun)*(m1*Msun + 2.*m2*Msun)/(2.*np.pi*c**2*a*M)"
   ]
  },
  {
   "cell_type": "code",
   "execution_count": 274,
   "metadata": {},
   "outputs": [
    {
     "name": "stdout",
     "output_type": "stream",
     "text": [
      "9.13937858504e-05\n"
     ]
    }
   ],
   "source": [
    "print gamma_dt(sol.x[0], 60., 0.1, 1.4, 1.4)"
   ]
  },
  {
   "cell_type": "code",
   "execution_count": null,
   "metadata": {
    "collapsed": true
   },
   "outputs": [],
   "source": []
  }
 ],
 "metadata": {
  "kernelspec": {
   "display_name": "Python 2",
   "language": "python",
   "name": "python2"
  },
  "language_info": {
   "codemirror_mode": {
    "name": "ipython",
    "version": 2
   },
   "file_extension": ".py",
   "mimetype": "text/x-python",
   "name": "python",
   "nbconvert_exporter": "python",
   "pygments_lexer": "ipython2",
   "version": "2.7.12"
  }
 },
 "nbformat": 4,
 "nbformat_minor": 2
}
